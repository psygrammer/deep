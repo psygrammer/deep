{
 "cells": [
  {
   "cell_type": "markdown",
   "metadata": {},
   "source": [
    "# 01. theano 설치 및 환경설정,  Demo / NumPy refresher / Baby Steps - Algebra / More EXamples"
   ]
  },
  {
   "cell_type": "markdown",
   "metadata": {},
   "source": [
    "# 차례"
   ]
  },
  {
   "cell_type": "markdown",
   "metadata": {},
   "source": [
    "* 설치 및 환경설정\n",
    "* Demo\n",
    "* NumPy refresher\n",
    "* Baby Steps - Algebra\n",
    "* More EXamples"
   ]
  },
  {
   "cell_type": "markdown",
   "metadata": {},
   "source": [
    "# 설치 및 환경설정"
   ]
  },
  {
   "cell_type": "code",
   "execution_count": 1,
   "metadata": {
    "collapsed": false
   },
   "outputs": [
    {
     "name": "stdout",
     "output_type": "stream",
     "text": [
      "Downloading/unpacking theano\n",
      "  Downloading Theano-0.7.0.tar.gz (2.0MB): 2.0MB downloaded\n",
      "  Running setup.py (path:/home/konan/.venv/deep/build/theano/setup.py) egg_info for package theano\n",
      "    \n",
      "    warning: manifest_maker: MANIFEST.in, line 8: 'recursive-include' expects <dir> <pattern1> <pattern2> ...\n",
      "    \n",
      "Requirement already satisfied (use --upgrade to upgrade): numpy>=1.6.2 in /home/konan/.venv/deep/lib/python2.7/site-packages (from theano)\n",
      "Requirement already satisfied (use --upgrade to upgrade): scipy>=0.11 in /home/konan/.venv/deep/lib/python2.7/site-packages (from theano)\n",
      "Installing collected packages: theano\n",
      "  Running setup.py install for theano\n",
      "    changing mode of build/scripts-2.7/theano-cache from 664 to 775\n",
      "    changing mode of build/scripts-2.7/theano-nose from 664 to 775\n",
      "    changing mode of build/scripts-2.7/theano-test from 664 to 775\n",
      "    \n",
      "    warning: manifest_maker: MANIFEST.in, line 8: 'recursive-include' expects <dir> <pattern1> <pattern2> ...\n",
      "    \n",
      "    changing mode of /home/konan/.venv/deep/bin/theano-test to 775\n",
      "    changing mode of /home/konan/.venv/deep/bin/theano-nose to 775\n",
      "    changing mode of /home/konan/.venv/deep/bin/theano-cache to 775\n",
      "Successfully installed theano\n",
      "Cleaning up...\n"
     ]
    }
   ],
   "source": [
    "!pip install theano"
   ]
  },
  {
   "cell_type": "markdown",
   "metadata": {},
   "source": [
    "# Demo"
   ]
  },
  {
   "cell_type": "markdown",
   "metadata": {},
   "source": [
    "# NumPy refresher"
   ]
  },
  {
   "cell_type": "markdown",
   "metadata": {},
   "source": [
    "* Matrix conventions for machine learning\n",
    "* Broadcasting"
   ]
  },
  {
   "cell_type": "markdown",
   "metadata": {},
   "source": [
    "## Matrix conventions for machine learning"
   ]
  },
  {
   "cell_type": "code",
   "execution_count": 2,
   "metadata": {
    "collapsed": true
   },
   "outputs": [],
   "source": [
    "import numpy"
   ]
  },
  {
   "cell_type": "markdown",
   "metadata": {},
   "source": [
    "This is a 3x2 matrix, i.e. there are 3 rows and 2 columns."
   ]
  },
  {
   "cell_type": "code",
   "execution_count": 3,
   "metadata": {
    "collapsed": false
   },
   "outputs": [
    {
     "name": "stdout",
     "output_type": "stream",
     "text": [
      "[[ 1.  2.]\n",
      " [ 3.  4.]\n",
      " [ 5.  6.]]\n"
     ]
    }
   ],
   "source": [
    "a = numpy.asarray([[1., 2], [3, 4], [5, 6]])\n",
    "print a"
   ]
  },
  {
   "cell_type": "code",
   "execution_count": 4,
   "metadata": {
    "collapsed": false
   },
   "outputs": [
    {
     "data": {
      "text/plain": [
       "(3, 2)"
      ]
     },
     "execution_count": 4,
     "metadata": {},
     "output_type": "execute_result"
    }
   ],
   "source": [
    "a.shape"
   ]
  },
  {
   "cell_type": "code",
   "execution_count": 5,
   "metadata": {
    "collapsed": false
   },
   "outputs": [
    {
     "data": {
      "text/plain": [
       "5.0"
      ]
     },
     "execution_count": 5,
     "metadata": {},
     "output_type": "execute_result"
    }
   ],
   "source": [
    "# row 3, colum 1 - 요소에 접근하기\n",
    "a[2,0]"
   ]
  },
  {
   "cell_type": "markdown",
   "metadata": {},
   "source": [
    "## Broadcasting"
   ]
  },
  {
   "cell_type": "markdown",
   "metadata": {},
   "source": [
    "* Numpy does broadcasting of arrays of different shapes during arithmetic operations. What this means in general is that the smaller array (or scalar) is broadcasted across the larger array so that they have compatible shapes. The example below shows an instance of broadcastaing:"
   ]
  },
  {
   "cell_type": "code",
   "execution_count": 6,
   "metadata": {
    "collapsed": false
   },
   "outputs": [
    {
     "name": "stdout",
     "output_type": "stream",
     "text": [
      "[ 1.  2.  3.]\n"
     ]
    }
   ],
   "source": [
    "a = numpy.asarray([1.0, 2.0, 3.0])\n",
    "print a"
   ]
  },
  {
   "cell_type": "code",
   "execution_count": 7,
   "metadata": {
    "collapsed": false
   },
   "outputs": [
    {
     "name": "stdout",
     "output_type": "stream",
     "text": [
      "2.0\n"
     ]
    }
   ],
   "source": [
    "b = 2.0\n",
    "print b"
   ]
  },
  {
   "cell_type": "code",
   "execution_count": 8,
   "metadata": {
    "collapsed": false
   },
   "outputs": [
    {
     "data": {
      "text/plain": [
       "array([ 2.,  4.,  6.])"
      ]
     },
     "execution_count": 8,
     "metadata": {},
     "output_type": "execute_result"
    }
   ],
   "source": [
    "a * b"
   ]
  },
  {
   "cell_type": "markdown",
   "metadata": {},
   "source": [
    "# Baby Steps - Algebra"
   ]
  },
  {
   "cell_type": "markdown",
   "metadata": {},
   "source": [
    "* Adding two Scalars\n",
    "* Adding two Matrices"
   ]
  },
  {
   "cell_type": "markdown",
   "metadata": {},
   "source": [
    "## Adding two Scalars"
   ]
  },
  {
   "cell_type": "code",
   "execution_count": 9,
   "metadata": {
    "collapsed": false
   },
   "outputs": [],
   "source": [
    "import theano.tensor as T\n",
    "from theano import function"
   ]
  },
  {
   "cell_type": "code",
   "execution_count": 10,
   "metadata": {
    "collapsed": true
   },
   "outputs": [],
   "source": [
    "x = T.dscalar('x')"
   ]
  },
  {
   "cell_type": "code",
   "execution_count": 11,
   "metadata": {
    "collapsed": true
   },
   "outputs": [],
   "source": [
    "y = T.dscalar('y')"
   ]
  },
  {
   "cell_type": "code",
   "execution_count": 12,
   "metadata": {
    "collapsed": true
   },
   "outputs": [],
   "source": [
    "z = x + y"
   ]
  },
  {
   "cell_type": "code",
   "execution_count": 14,
   "metadata": {
    "collapsed": true
   },
   "outputs": [],
   "source": [
    "f = function([x, y], z)"
   ]
  },
  {
   "cell_type": "code",
   "execution_count": 16,
   "metadata": {
    "collapsed": false
   },
   "outputs": [
    {
     "data": {
      "text/plain": [
       "array(5.0)"
      ]
     },
     "execution_count": 16,
     "metadata": {},
     "output_type": "execute_result"
    }
   ],
   "source": [
    "f(2, 3)"
   ]
  },
  {
   "cell_type": "code",
   "execution_count": 17,
   "metadata": {
    "collapsed": false
   },
   "outputs": [
    {
     "data": {
      "text/plain": [
       "array(28.4)"
      ]
     },
     "execution_count": 17,
     "metadata": {},
     "output_type": "execute_result"
    }
   ],
   "source": [
    "f(16.3, 12.1)"
   ]
  },
  {
   "cell_type": "markdown",
   "metadata": {},
   "source": [
    "#### Let’s break this down into several steps."
   ]
  },
  {
   "cell_type": "markdown",
   "metadata": {},
   "source": [
    "If you are following along and typing into an interpreter, you may have noticed that there was a slight delay in executing the function instruction. Behind the scene, f was being compiled into C code."
   ]
  },
  {
   "cell_type": "markdown",
   "metadata": {},
   "source": [
    "### Step 1"
   ]
  },
  {
   "cell_type": "code",
   "execution_count": 18,
   "metadata": {
    "collapsed": true
   },
   "outputs": [],
   "source": [
    "x = T.dscalar('x')\n",
    "y = T.dscalar('y')       "
   ]
  },
  {
   "cell_type": "code",
   "execution_count": 19,
   "metadata": {
    "collapsed": false
   },
   "outputs": [
    {
     "data": {
      "text/plain": [
       "theano.tensor.var.TensorVariable"
      ]
     },
     "execution_count": 19,
     "metadata": {},
     "output_type": "execute_result"
    }
   ],
   "source": [
    "type(x)"
   ]
  },
  {
   "cell_type": "code",
   "execution_count": 21,
   "metadata": {
    "collapsed": false
   },
   "outputs": [
    {
     "data": {
      "text/plain": [
       "TensorType(float64, scalar)"
      ]
     },
     "execution_count": 21,
     "metadata": {},
     "output_type": "execute_result"
    }
   ],
   "source": [
    "x.type"
   ]
  },
  {
   "cell_type": "code",
   "execution_count": 22,
   "metadata": {
    "collapsed": false
   },
   "outputs": [
    {
     "data": {
      "text/plain": [
       "TensorType(float64, scalar)"
      ]
     },
     "execution_count": 22,
     "metadata": {},
     "output_type": "execute_result"
    }
   ],
   "source": [
    "T.dscalar"
   ]
  },
  {
   "cell_type": "code",
   "execution_count": 23,
   "metadata": {
    "collapsed": false
   },
   "outputs": [
    {
     "data": {
      "text/plain": [
       "True"
      ]
     },
     "execution_count": 23,
     "metadata": {},
     "output_type": "execute_result"
    }
   ],
   "source": [
    "x.type is T.dscalar"
   ]
  },
  {
   "cell_type": "markdown",
   "metadata": {},
   "source": [
    "### Step 2"
   ]
  },
  {
   "cell_type": "code",
   "execution_count": 24,
   "metadata": {
    "collapsed": true
   },
   "outputs": [],
   "source": [
    "z = x + y"
   ]
  },
  {
   "cell_type": "markdown",
   "metadata": {},
   "source": [
    "z is yet another Variable which represents the addition of x and y. You can use the pp function to pretty-print out the computation associated to z."
   ]
  },
  {
   "cell_type": "code",
   "execution_count": 25,
   "metadata": {
    "collapsed": false
   },
   "outputs": [
    {
     "name": "stdout",
     "output_type": "stream",
     "text": [
      "(x + y)\n"
     ]
    }
   ],
   "source": [
    "from theano import pp\n",
    "print pp(z)"
   ]
  },
  {
   "cell_type": "markdown",
   "metadata": {},
   "source": [
    "### Step 3"
   ]
  },
  {
   "cell_type": "code",
   "execution_count": 26,
   "metadata": {
    "collapsed": true
   },
   "outputs": [],
   "source": [
    "f = function([x, y], z)"
   ]
  },
  {
   "cell_type": "markdown",
   "metadata": {},
   "source": [
    "* The first argument to function is a list of Variables that will be provided as inputs to the function. \n",
    "* The second argument is a single Variable or a list of Variables. \n",
    "* For either case, the second argument is what we want to see as output when we apply the function. f may then be used like a normal Python function."
   ]
  },
  {
   "cell_type": "markdown",
   "metadata": {},
   "source": [
    "## Adding two Matrices"
   ]
  },
  {
   "cell_type": "code",
   "execution_count": 27,
   "metadata": {
    "collapsed": true
   },
   "outputs": [],
   "source": [
    "x = T.dmatrix('x')"
   ]
  },
  {
   "cell_type": "code",
   "execution_count": 28,
   "metadata": {
    "collapsed": true
   },
   "outputs": [],
   "source": [
    "y = T.dmatrix('y')"
   ]
  },
  {
   "cell_type": "code",
   "execution_count": 29,
   "metadata": {
    "collapsed": true
   },
   "outputs": [],
   "source": [
    "z = x + y"
   ]
  },
  {
   "cell_type": "code",
   "execution_count": 30,
   "metadata": {
    "collapsed": true
   },
   "outputs": [],
   "source": [
    "f = function([x, y], z)"
   ]
  },
  {
   "cell_type": "code",
   "execution_count": 31,
   "metadata": {
    "collapsed": false
   },
   "outputs": [
    {
     "data": {
      "text/plain": [
       "array([[ 11.,  22.],\n",
       "       [ 33.,  44.]])"
      ]
     },
     "execution_count": 31,
     "metadata": {},
     "output_type": "execute_result"
    }
   ],
   "source": [
    "f([[1, 2], [3, 4]], [[10, 20], [30, 40]])"
   ]
  },
  {
   "cell_type": "code",
   "execution_count": 32,
   "metadata": {
    "collapsed": false
   },
   "outputs": [
    {
     "data": {
      "text/plain": [
       "array([[ 11.,  22.],\n",
       "       [ 33.,  44.]])"
      ]
     },
     "execution_count": 32,
     "metadata": {},
     "output_type": "execute_result"
    }
   ],
   "source": [
    "import numpy\n",
    "a = numpy.array([[1, 2], [3, 4]])\n",
    "b = numpy.array([[10, 20], [30, 40]])\n",
    "f(a, b)"
   ]
  },
  {
   "cell_type": "markdown",
   "metadata": {},
   "source": [
    "It is possible to add scalars to matrices, vectors to matrices, scalars to vectors, etc. = broadcasting"
   ]
  },
  {
   "cell_type": "markdown",
   "metadata": {},
   "source": [
    "The following types are available:"
   ]
  },
  {
   "cell_type": "markdown",
   "metadata": {},
   "source": [
    "* <b>byte</b>: bscalar, bvector, bmatrix, brow, bcol, btensor3, btensor4\n",
    "* <b>16-bit integers</b>:wscalar, wvector, wmatrix, wrow, wcol, wtensor3, wtensor4\n",
    "* <b>32-bit integers</b>: iscalar, ivector, imatrix, irow, icol, itensor3, itensor4\n",
    "* <b>64-bit integers</b>: lscalar, lvector, lmatrix, lrow, lcol, ltensor3, ltensor4\n",
    "* <b>float</b>: fscalar, fvector, fmatrix, frow, fcol, ftensor3, ftensor4\n",
    "* <b>double</b>: dscalar, dvector, dmatrix, drow, dcol, dtensor3, dtensor4\n",
    "* <b>complex</b>: cscalar, cvector, cmatrix, crow, ccol, ctensor3, ctensor4"
   ]
  },
  {
   "cell_type": "code",
   "execution_count": 33,
   "metadata": {
    "collapsed": false
   },
   "outputs": [
    {
     "name": "stdout",
     "output_type": "stream",
     "text": [
      "[    0.     2.  1026.]\n"
     ]
    }
   ],
   "source": [
    "import theano\n",
    "a = theano.tensor.vector() # declare variable\n",
    "out = a + a ** 10               # build symbolic expression\n",
    "f = theano.function([a], out)   # compile function\n",
    "print f([0, 1, 2])  # prints `array([0, 2, 1026])`"
   ]
  },
  {
   "cell_type": "markdown",
   "metadata": {},
   "source": [
    "# More EXamples"
   ]
  },
  {
   "cell_type": "markdown",
   "metadata": {},
   "source": [
    "* Logistic Function\n",
    "* Computing More than one Thing at the Same Time\n",
    "* Setting a Default Value for an Argument\n",
    "* Using Shared Variables\n",
    "* Using Random Numbers\n",
    "    - Brief Example\n",
    "    - Seeding Streams\n",
    "    - Sharing Streams Between Functions\n",
    "    - Copying Random State Between Theano Graphs\n",
    "    - Other Random Distributions\n",
    "    - Other Implementations\n",
    "* Real Example: Logistic Regression"
   ]
  },
  {
   "cell_type": "markdown",
   "metadata": {},
   "source": [
    "## Logistic Function"
   ]
  },
  {
   "cell_type": "markdown",
   "metadata": {},
   "source": [
    "<img src=\"http://deeplearning.net/software/theano/_images/math/943718fb001e2e9576e781d97946d74e44de5251.png\" />"
   ]
  },
  {
   "cell_type": "markdown",
   "metadata": {},
   "source": [
    "<img src=\"http://deeplearning.net/software/theano/_images/logistic.png\" />"
   ]
  },
  {
   "cell_type": "markdown",
   "metadata": {},
   "source": [
    "You want to compute the function elementwise on matrices of doubles, which means that you want to apply this function to each individual element of the matrix."
   ]
  },
  {
   "cell_type": "code",
   "execution_count": 34,
   "metadata": {
    "collapsed": true
   },
   "outputs": [],
   "source": [
    "x = T.dmatrix('x')\n",
    "s = 1 / (1 + T.exp(-x))\n",
    "logistic = function([x], s)"
   ]
  },
  {
   "cell_type": "code",
   "execution_count": 35,
   "metadata": {
    "collapsed": false
   },
   "outputs": [
    {
     "data": {
      "text/plain": [
       "array([[ 0.5       ,  0.73105858],\n",
       "       [ 0.26894142,  0.11920292]])"
      ]
     },
     "execution_count": 35,
     "metadata": {},
     "output_type": "execute_result"
    }
   ],
   "source": [
    "logistic([[0, 1], [-1, -2]])"
   ]
  },
  {
   "cell_type": "markdown",
   "metadata": {},
   "source": [
    "<img src=\"http://deeplearning.net/software/theano/_images/math/d27229dfcd1ce305c126bbbd8a2e0fa867ccc503.png\" />"
   ]
  },
  {
   "cell_type": "code",
   "execution_count": 36,
   "metadata": {
    "collapsed": false
   },
   "outputs": [],
   "source": [
    "s2 = (1 + T.tanh(x / 2)) / 2\n",
    "logistic2 = function([x], s2)"
   ]
  },
  {
   "cell_type": "code",
   "execution_count": 37,
   "metadata": {
    "collapsed": false
   },
   "outputs": [
    {
     "data": {
      "text/plain": [
       "array([[ 0.5       ,  0.73105858],\n",
       "       [ 0.26894142,  0.11920292]])"
      ]
     },
     "execution_count": 37,
     "metadata": {},
     "output_type": "execute_result"
    }
   ],
   "source": [
    "logistic2([[0, 1], [-1, -2]])"
   ]
  },
  {
   "cell_type": "markdown",
   "metadata": {},
   "source": [
    "### Computing More than one Thing at the Same Time"
   ]
  },
  {
   "cell_type": "markdown",
   "metadata": {},
   "source": [
    "Theano supports functions with multiple outputs. For example, we can compute the elementwise difference, absolute difference, and squared difference between two matrices a and b at the same time:"
   ]
  },
  {
   "cell_type": "code",
   "execution_count": 38,
   "metadata": {
    "collapsed": true
   },
   "outputs": [],
   "source": [
    "a, b = T.dmatrices('a', 'b')\n",
    "diff = a - b\n",
    "abs_diff = abs(diff)\n",
    "diff_squared = diff**2\n",
    "f = function([a, b], [diff, abs_diff, diff_squared])"
   ]
  },
  {
   "cell_type": "code",
   "execution_count": 39,
   "metadata": {
    "collapsed": false
   },
   "outputs": [
    {
     "data": {
      "text/plain": [
       "[array([[ 1.,  0.],\n",
       "        [-1., -2.]]), array([[ 1.,  0.],\n",
       "        [ 1.,  2.]]), array([[ 1.,  0.],\n",
       "        [ 1.,  4.]])]"
      ]
     },
     "execution_count": 39,
     "metadata": {},
     "output_type": "execute_result"
    }
   ],
   "source": [
    "f([[1, 1], [1, 1]], [[0, 1], [2, 3]])"
   ]
  },
  {
   "cell_type": "markdown",
   "metadata": {},
   "source": [
    "### Setting a Default Value for an Argument"
   ]
  },
  {
   "cell_type": "markdown",
   "metadata": {},
   "source": [
    "Let’s say you want to define a function that adds two numbers, except that if you only provide one number, the other input is assumed to be one. You can do it like this:"
   ]
  },
  {
   "cell_type": "code",
   "execution_count": 40,
   "metadata": {
    "collapsed": true
   },
   "outputs": [],
   "source": [
    "from theano import Param\n",
    "x, y = T.dscalars('x', 'y')\n",
    "z = x + y\n",
    "f = function([x, Param(y, default=1)], z)"
   ]
  },
  {
   "cell_type": "code",
   "execution_count": 41,
   "metadata": {
    "collapsed": false
   },
   "outputs": [
    {
     "data": {
      "text/plain": [
       "array(34.0)"
      ]
     },
     "execution_count": 41,
     "metadata": {},
     "output_type": "execute_result"
    }
   ],
   "source": [
    "f(33)"
   ]
  },
  {
   "cell_type": "code",
   "execution_count": 42,
   "metadata": {
    "collapsed": false
   },
   "outputs": [
    {
     "data": {
      "text/plain": [
       "array(35.0)"
      ]
     },
     "execution_count": 42,
     "metadata": {},
     "output_type": "execute_result"
    }
   ],
   "source": [
    "f(33, 2)"
   ]
  },
  {
   "cell_type": "markdown",
   "metadata": {},
   "source": [
    "Inputs with default values must follow inputs without default values (like Python’s functions). There can be multiple inputs with default values. These parameters can be set positionally or by name, as in standard Python:"
   ]
  },
  {
   "cell_type": "code",
   "execution_count": 43,
   "metadata": {
    "collapsed": true
   },
   "outputs": [],
   "source": [
    "x, y, w = T.dscalars('x', 'y', 'w')\n",
    "z = (x + y) * w\n",
    "f = function([x, Param(y, default=1), Param(w, default=2, name='w_by_name')], z)"
   ]
  },
  {
   "cell_type": "code",
   "execution_count": 44,
   "metadata": {
    "collapsed": false
   },
   "outputs": [
    {
     "data": {
      "text/plain": [
       "array(68.0)"
      ]
     },
     "execution_count": 44,
     "metadata": {},
     "output_type": "execute_result"
    }
   ],
   "source": [
    "f(33)"
   ]
  },
  {
   "cell_type": "code",
   "execution_count": 47,
   "metadata": {
    "collapsed": false
   },
   "outputs": [
    {
     "data": {
      "text/plain": [
       "array(70.0)"
      ]
     },
     "execution_count": 47,
     "metadata": {},
     "output_type": "execute_result"
    }
   ],
   "source": [
    "f(33, 2)"
   ]
  },
  {
   "cell_type": "code",
   "execution_count": 48,
   "metadata": {
    "collapsed": false
   },
   "outputs": [
    {
     "data": {
      "text/plain": [
       "array(33.0)"
      ]
     },
     "execution_count": 48,
     "metadata": {},
     "output_type": "execute_result"
    }
   ],
   "source": [
    "f(33, 0, 1)"
   ]
  },
  {
   "cell_type": "code",
   "execution_count": 49,
   "metadata": {
    "collapsed": false
   },
   "outputs": [
    {
     "data": {
      "text/plain": [
       "array(34.0)"
      ]
     },
     "execution_count": 49,
     "metadata": {},
     "output_type": "execute_result"
    }
   ],
   "source": [
    "f(33, w_by_name=1)"
   ]
  },
  {
   "cell_type": "code",
   "execution_count": 50,
   "metadata": {
    "collapsed": false
   },
   "outputs": [
    {
     "data": {
      "text/plain": [
       "array(33.0)"
      ]
     },
     "execution_count": 50,
     "metadata": {},
     "output_type": "execute_result"
    }
   ],
   "source": [
    "f(33, w_by_name=1, y=0)"
   ]
  },
  {
   "cell_type": "markdown",
   "metadata": {},
   "source": [
    "### Using Shared Variables"
   ]
  },
  {
   "cell_type": "markdown",
   "metadata": {},
   "source": [
    "It is also possible to make a function with an internal state. For example, let’s say we want to make an accumulator: at the beginning, the state is initialized to zero. Then, on each function call, the state is incremented by the function’s argument."
   ]
  },
  {
   "cell_type": "code",
   "execution_count": 51,
   "metadata": {
    "collapsed": true
   },
   "outputs": [],
   "source": [
    "from theano import shared\n",
    "state = shared(0)\n",
    "inc = T.iscalar('inc')\n",
    "accumulator = function([inc], state, updates=[(state, state+inc)])"
   ]
  },
  {
   "cell_type": "code",
   "execution_count": 52,
   "metadata": {
    "collapsed": false
   },
   "outputs": [
    {
     "data": {
      "text/plain": [
       "array(0)"
      ]
     },
     "execution_count": 52,
     "metadata": {},
     "output_type": "execute_result"
    }
   ],
   "source": [
    "state.get_value()"
   ]
  },
  {
   "cell_type": "code",
   "execution_count": 53,
   "metadata": {
    "collapsed": false
   },
   "outputs": [
    {
     "data": {
      "text/plain": [
       "array(0)"
      ]
     },
     "execution_count": 53,
     "metadata": {},
     "output_type": "execute_result"
    }
   ],
   "source": [
    "accumulator(1)"
   ]
  },
  {
   "cell_type": "code",
   "execution_count": 54,
   "metadata": {
    "collapsed": false
   },
   "outputs": [
    {
     "data": {
      "text/plain": [
       "array(1)"
      ]
     },
     "execution_count": 54,
     "metadata": {},
     "output_type": "execute_result"
    }
   ],
   "source": [
    "state.get_value()"
   ]
  },
  {
   "cell_type": "code",
   "execution_count": 55,
   "metadata": {
    "collapsed": false
   },
   "outputs": [
    {
     "data": {
      "text/plain": [
       "array(1)"
      ]
     },
     "execution_count": 55,
     "metadata": {},
     "output_type": "execute_result"
    }
   ],
   "source": [
    "accumulator(300)"
   ]
  },
  {
   "cell_type": "code",
   "execution_count": 56,
   "metadata": {
    "collapsed": false
   },
   "outputs": [
    {
     "data": {
      "text/plain": [
       "array(301)"
      ]
     },
     "execution_count": 56,
     "metadata": {},
     "output_type": "execute_result"
    }
   ],
   "source": [
    "state.get_value()"
   ]
  },
  {
   "cell_type": "markdown",
   "metadata": {},
   "source": [
    "### Using Random Numbers"
   ]
  },
  {
   "cell_type": "markdown",
   "metadata": {},
   "source": [
    "The way to think about putting randomness into Theano’s computations is to put random variables in your graph. Theano will allocate a NumPy RandomStream object (a random number generator) for each such variable, and draw from it as necessary. We will call this sort of sequence of random numbers a random stream. Random streams are at their core shared variables, so the observations on shared variables hold here as well. Theanos’s random objects are defined and implemented in RandomStreams and, at a lower level, in RandomStreamsBase."
   ]
  },
  {
   "cell_type": "markdown",
   "metadata": {},
   "source": [
    "#### Brief Example"
   ]
  },
  {
   "cell_type": "code",
   "execution_count": 57,
   "metadata": {
    "collapsed": true
   },
   "outputs": [],
   "source": [
    "from theano.tensor.shared_randomstreams import RandomStreams\n",
    "from theano import function"
   ]
  },
  {
   "cell_type": "code",
   "execution_count": 58,
   "metadata": {
    "collapsed": true
   },
   "outputs": [],
   "source": [
    "srng = RandomStreams(seed=234)"
   ]
  },
  {
   "cell_type": "code",
   "execution_count": 59,
   "metadata": {
    "collapsed": true
   },
   "outputs": [],
   "source": [
    "rv_u = srng.uniform((2,2))"
   ]
  },
  {
   "cell_type": "code",
   "execution_count": 60,
   "metadata": {
    "collapsed": true
   },
   "outputs": [],
   "source": [
    "rv_n = srng.normal((2,2))"
   ]
  },
  {
   "cell_type": "code",
   "execution_count": 61,
   "metadata": {
    "collapsed": true
   },
   "outputs": [],
   "source": [
    "f = function([], rv_u)"
   ]
  },
  {
   "cell_type": "code",
   "execution_count": 62,
   "metadata": {
    "collapsed": true
   },
   "outputs": [],
   "source": [
    "g = function([], rv_n, no_default_updates=True)    #Not updating rv_n.rng"
   ]
  },
  {
   "cell_type": "code",
   "execution_count": 63,
   "metadata": {
    "collapsed": true
   },
   "outputs": [],
   "source": [
    "nearly_zeros = function([], rv_u + rv_u - 2 * rv_u)"
   ]
  },
  {
   "cell_type": "markdown",
   "metadata": {},
   "source": [
    "Here, ‘rv_u’ represents a random stream of 2x2 matrices of draws from a uniform distribution. Likewise, ‘rv_n’ represents a random stream of 2x2 matrices of draws from a normal distribution."
   ]
  },
  {
   "cell_type": "markdown",
   "metadata": {},
   "source": [
    "Now let’s use these objects. If we call f(), we get random uniform numbers."
   ]
  },
  {
   "cell_type": "code",
   "execution_count": 64,
   "metadata": {
    "collapsed": true
   },
   "outputs": [],
   "source": [
    "f_val0 = f()"
   ]
  },
  {
   "cell_type": "code",
   "execution_count": 65,
   "metadata": {
    "collapsed": false
   },
   "outputs": [
    {
     "data": {
      "text/plain": [
       "array([[ 0.12672381,  0.97091597],\n",
       "       [ 0.13989098,  0.88754825]])"
      ]
     },
     "execution_count": 65,
     "metadata": {},
     "output_type": "execute_result"
    }
   ],
   "source": [
    "f_val0"
   ]
  },
  {
   "cell_type": "code",
   "execution_count": 66,
   "metadata": {
    "collapsed": false
   },
   "outputs": [
    {
     "data": {
      "text/plain": [
       "array([[ 0.31971415,  0.47584377],\n",
       "       [ 0.24129163,  0.42046081]])"
      ]
     },
     "execution_count": 66,
     "metadata": {},
     "output_type": "execute_result"
    }
   ],
   "source": [
    "f_val1 = f()  #different numbers from f_val0\n",
    "f_val1"
   ]
  },
  {
   "cell_type": "markdown",
   "metadata": {},
   "source": [
    "When we add the extra argument no_default_updates=True to function (as in g), then the random number generator state is not affected by calling the returned function. So, for example, calling g multiple times will return the same numbers."
   ]
  },
  {
   "cell_type": "code",
   "execution_count": 67,
   "metadata": {
    "collapsed": false
   },
   "outputs": [
    {
     "data": {
      "text/plain": [
       "array([[ 0.37328447, -0.65746672],\n",
       "       [-0.36302373, -0.97484625]])"
      ]
     },
     "execution_count": 67,
     "metadata": {},
     "output_type": "execute_result"
    }
   ],
   "source": [
    "g_val0 = g()  # different numbers from f_val0 and f_val1\n",
    "g_val0"
   ]
  },
  {
   "cell_type": "code",
   "execution_count": 68,
   "metadata": {
    "collapsed": false
   },
   "outputs": [
    {
     "data": {
      "text/plain": [
       "array([[ 0.37328447, -0.65746672],\n",
       "       [-0.36302373, -0.97484625]])"
      ]
     },
     "execution_count": 68,
     "metadata": {},
     "output_type": "execute_result"
    }
   ],
   "source": [
    "g_val1 = g()  # same numbers as g_val0!\n",
    "g_val1"
   ]
  },
  {
   "cell_type": "markdown",
   "metadata": {},
   "source": [
    "#### Seeding Streams"
   ]
  },
  {
   "cell_type": "markdown",
   "metadata": {},
   "source": [
    "Random variables can be seeded individually or collectively."
   ]
  },
  {
   "cell_type": "markdown",
   "metadata": {},
   "source": [
    "You can seed just one random variable by seeding or assigning to the .rng attribute, using .rng.set_value()."
   ]
  },
  {
   "cell_type": "code",
   "execution_count": 69,
   "metadata": {
    "collapsed": true
   },
   "outputs": [],
   "source": [
    "rng_val = rv_u.rng.get_value(borrow=True)   # Get the rng for rv_u"
   ]
  },
  {
   "cell_type": "code",
   "execution_count": 70,
   "metadata": {
    "collapsed": true
   },
   "outputs": [],
   "source": [
    "rng_val.seed(89234)                         # seeds the generator"
   ]
  },
  {
   "cell_type": "code",
   "execution_count": 71,
   "metadata": {
    "collapsed": true
   },
   "outputs": [],
   "source": [
    "rv_u.rng.set_value(rng_val, borrow=True)    # Assign back seeded rng"
   ]
  },
  {
   "cell_type": "markdown",
   "metadata": {},
   "source": [
    "You can also seed all of the random variables allocated by a RandomStreams object by that object’s seed method. This seed will be used to seed a temporary random number generator, that will in turn generate seeds for each of the random variables."
   ]
  },
  {
   "cell_type": "code",
   "execution_count": 72,
   "metadata": {
    "collapsed": true
   },
   "outputs": [],
   "source": [
    "srng.seed(902340)  # seeds rv_u and rv_n with different seeds each"
   ]
  },
  {
   "cell_type": "markdown",
   "metadata": {},
   "source": [
    "#### Sharing Streams Between Functions"
   ]
  },
  {
   "cell_type": "markdown",
   "metadata": {},
   "source": [
    "As usual for shared variables, the random number generators used for random variables are common between functions. So our nearly_zeros function will update the state of the generators used in function f above."
   ]
  },
  {
   "cell_type": "code",
   "execution_count": 73,
   "metadata": {
    "collapsed": true
   },
   "outputs": [],
   "source": [
    "state_after_v0 = rv_u.rng.get_value().get_state()"
   ]
  },
  {
   "cell_type": "code",
   "execution_count": 74,
   "metadata": {
    "collapsed": false
   },
   "outputs": [
    {
     "data": {
      "text/plain": [
       "array([[ 0.,  0.],\n",
       "       [ 0.,  0.]])"
      ]
     },
     "execution_count": 74,
     "metadata": {},
     "output_type": "execute_result"
    }
   ],
   "source": [
    "nearly_zeros()       # this affects rv_u's generator"
   ]
  },
  {
   "cell_type": "code",
   "execution_count": 81,
   "metadata": {
    "collapsed": false
   },
   "outputs": [
    {
     "data": {
      "text/plain": [
       "array([[ 0.62720432,  0.90458979],\n",
       "       [ 0.14363919,  0.89279932]])"
      ]
     },
     "execution_count": 81,
     "metadata": {},
     "output_type": "execute_result"
    }
   ],
   "source": [
    "v1 = f()\n",
    "v1"
   ]
  },
  {
   "cell_type": "code",
   "execution_count": 76,
   "metadata": {
    "collapsed": true
   },
   "outputs": [],
   "source": [
    "rng = rv_u.rng.get_value(borrow=True)"
   ]
  },
  {
   "cell_type": "code",
   "execution_count": 77,
   "metadata": {
    "collapsed": true
   },
   "outputs": [],
   "source": [
    "rng.set_state(state_after_v0)"
   ]
  },
  {
   "cell_type": "code",
   "execution_count": 78,
   "metadata": {
    "collapsed": true
   },
   "outputs": [],
   "source": [
    "rv_u.rng.set_value(rng, borrow=True)"
   ]
  },
  {
   "cell_type": "code",
   "execution_count": 80,
   "metadata": {
    "collapsed": false
   },
   "outputs": [
    {
     "data": {
      "text/plain": [
       "array([[ 0.5025809 ,  0.99544429],\n",
       "       [ 0.75073355,  0.17926032]])"
      ]
     },
     "execution_count": 80,
     "metadata": {},
     "output_type": "execute_result"
    }
   ],
   "source": [
    "v2 = f()             # v2 != v1\n",
    "v2"
   ]
  },
  {
   "cell_type": "code",
   "execution_count": 82,
   "metadata": {
    "collapsed": false
   },
   "outputs": [
    {
     "data": {
      "text/plain": [
       "array([[ 0.23219826,  0.25305996],\n",
       "       [ 0.02116774,  0.65845077]])"
      ]
     },
     "execution_count": 82,
     "metadata": {},
     "output_type": "execute_result"
    }
   ],
   "source": [
    "v3 = f()             # v3 == v1\n",
    "v3"
   ]
  },
  {
   "cell_type": "markdown",
   "metadata": {},
   "source": [
    "#### Copying Random State Between Theano Graphs"
   ]
  },
  {
   "cell_type": "markdown",
   "metadata": {},
   "source": [
    "* In some use cases, a user might want to transfer the “state” of all random number generators associated with a given theano graph (e.g. g1, with compiled function f1 below) to a second graph (e.g. g2, with function f2). This might arise for example if you are trying to initialize the state of a model, from the parameters of a pickled version of a previous model. For\n",
    "    - theano.tensor.shared_randomstreams.RandomStreams \n",
    "    - and theano.sandbox.rng_mrg.MRG_RandomStreams this can be achieved by copying elements of the state_updates parameter.\n",
    "* Each time a random variable is drawn from a RandomStreams object, a tuple is added to the state_updates list.\n",
    "    - The first element is a shared variable, which represents the state of the random number generator associated with this particular variable, \n",
    "    - while the second represents the theano graph corresponding to the random number generation process (i.e. RandomFunction{uniform}.0)."
   ]
  },
  {
   "cell_type": "markdown",
   "metadata": {},
   "source": [
    "An example of how “random states” can be transferred from one theano function to another is shown below."
   ]
  },
  {
   "cell_type": "code",
   "execution_count": 83,
   "metadata": {
    "collapsed": true
   },
   "outputs": [],
   "source": [
    "import theano\n",
    "import numpy\n",
    "import theano.tensor as T\n",
    "from theano.sandbox.rng_mrg import MRG_RandomStreams\n",
    "from theano.tensor.shared_randomstreams import RandomStreams"
   ]
  },
  {
   "cell_type": "code",
   "execution_count": 84,
   "metadata": {
    "collapsed": true
   },
   "outputs": [],
   "source": [
    "class Graph():\n",
    "    def __init__(self, seed=123):\n",
    "        self.rng = RandomStreams(seed)\n",
    "        self.y = self.rng.uniform(size=(1,))"
   ]
  },
  {
   "cell_type": "code",
   "execution_count": 85,
   "metadata": {
    "collapsed": false
   },
   "outputs": [
    {
     "data": {
      "text/plain": [
       "<__main__.Graph instance at 0x7f4abe181908>"
      ]
     },
     "execution_count": 85,
     "metadata": {},
     "output_type": "execute_result"
    }
   ],
   "source": [
    "g1 = Graph(seed=123)\n",
    "g1"
   ]
  },
  {
   "cell_type": "code",
   "execution_count": 86,
   "metadata": {
    "collapsed": false
   },
   "outputs": [
    {
     "data": {
      "text/plain": [
       "<theano.compile.function_module.Function at 0x7f4abe8e2210>"
      ]
     },
     "execution_count": 86,
     "metadata": {},
     "output_type": "execute_result"
    }
   ],
   "source": [
    "f1 = theano.function([], g1.y)\n",
    "f1"
   ]
  },
  {
   "cell_type": "code",
   "execution_count": 87,
   "metadata": {
    "collapsed": true
   },
   "outputs": [],
   "source": [
    "g2 = Graph(seed=987)\n",
    "f2 = theano.function([], g2.y)"
   ]
  },
  {
   "cell_type": "code",
   "execution_count": 88,
   "metadata": {
    "collapsed": false
   },
   "outputs": [
    {
     "name": "stdout",
     "output_type": "stream",
     "text": [
      "By default, the two functions are out of sync.\n",
      "f1() returns  [ 0.72803009]\n",
      "f2() returns  [ 0.55056769]\n"
     ]
    }
   ],
   "source": [
    "print 'By default, the two functions are out of sync.'\n",
    "print 'f1() returns ', f1()\n",
    "print 'f2() returns ', f2()"
   ]
  },
  {
   "cell_type": "code",
   "execution_count": 89,
   "metadata": {
    "collapsed": true
   },
   "outputs": [],
   "source": [
    "def copy_random_state(g1, g2):\n",
    "    if isinstance(g1.rng, MRG_RandomStreams):\n",
    "        g2.rng.rstate = g1.rng.rstate\n",
    "    for (su1, su2) in zip(g1.rng.state_updates, g2.rng.state_updates):\n",
    "        su2[0].set_value(su1[0].get_value())"
   ]
  },
  {
   "cell_type": "code",
   "execution_count": 90,
   "metadata": {
    "collapsed": false
   },
   "outputs": [
    {
     "name": "stdout",
     "output_type": "stream",
     "text": [
      "We now copy the state of the theano random number generators.\n",
      "f1() returns  [ 0.59044123]\n",
      "f2() returns  [ 0.59044123]\n"
     ]
    }
   ],
   "source": [
    "print 'We now copy the state of the theano random number generators.'\n",
    "copy_random_state(g1, g2)\n",
    "print 'f1() returns ', f1()\n",
    "print 'f2() returns ', f2()"
   ]
  },
  {
   "cell_type": "markdown",
   "metadata": {},
   "source": [
    "#### Other Random Distributions"
   ]
  },
  {
   "cell_type": "markdown",
   "metadata": {},
   "source": [
    "There are other distributions implemented - http://deeplearning.net/software/theano/library/tensor/raw_random.html#libdoc-tensor-raw-random"
   ]
  },
  {
   "cell_type": "markdown",
   "metadata": {},
   "source": [
    "#### Other Implementations"
   ]
  },
  {
   "cell_type": "markdown",
   "metadata": {},
   "source": [
    "* There is 2 other implementations based on CURAND and MRG31k3p\n",
    "    - CURAND - http://deeplearning.net/software/theano/library/sandbox/cuda/op.html#module-theano.sandbox.cuda.rng_curand\n",
    "    - MRG31k3p - http://deeplearning.net/software/theano/library/sandbox/rng_mrg.html#libdoc-rng-mrg"
   ]
  },
  {
   "cell_type": "markdown",
   "metadata": {},
   "source": [
    "### Real Example: Logistic Regression"
   ]
  },
  {
   "cell_type": "code",
   "execution_count": 92,
   "metadata": {
    "collapsed": false
   },
   "outputs": [
    {
     "name": "stdout",
     "output_type": "stream",
     "text": [
      "Initial model:\n",
      "[  1.67019495e+00   2.92417189e-01  -7.46813878e-01   1.30802467e+00\n",
      "   2.49083200e-03   1.46521564e+00   1.52705311e+00  -1.86482485e-01\n",
      "  -8.67383502e-01  -1.47840817e+00   2.04217345e+00  -1.79772329e-01\n",
      "   4.68483034e-01   9.15536222e-02  -6.87248735e-01   1.63020176e-02\n",
      "   4.07246700e-01   7.04426327e-01   1.37555142e+00  -7.60415114e-01\n",
      "   4.93261508e-01   1.95323720e-01   1.17411339e-01  -8.94363620e-01\n",
      "  -2.59411103e-01   1.94318463e+00  -1.52386756e-01   1.09117029e+00\n",
      "   1.19284815e-01  -1.05395816e+00  -3.18195284e-01  -3.89012203e-01\n",
      "   2.05109678e+00   1.06314377e+00   1.35568454e+00   1.21947194e-01\n",
      "  -4.57464894e-01  -6.62252040e-01   7.95171362e-01  -1.42240859e-01\n",
      "  -4.60494242e-01  -8.94458180e-01  -1.77438878e-01   1.56352842e+00\n",
      "   4.02649656e-01   6.26960777e-02  -5.15609361e-02  -9.85760276e-01\n",
      "   3.77736771e-01  -1.46082120e+00   1.77843757e+00  -1.57858054e+00\n",
      "   1.28744097e+00  -4.45699479e-01   6.09213766e-01   6.50906451e-02\n",
      "   1.41345030e+00  -8.38808570e-01  -5.13557927e-01   4.03775782e-01\n",
      "  -1.64339317e-01   2.64967644e-01   1.18170284e-01  -2.66090140e-01\n",
      "  -1.62492324e-01   2.28419999e+00  -1.06637777e+00  -3.71861301e-01\n",
      "  -1.24165093e+00   1.07162161e-01   7.07915697e-01  -8.39076169e-01\n",
      "   4.59502133e-01  -4.88070800e-02   1.41393359e+00   7.58898240e-01\n",
      "  -6.78725184e-02   8.78923195e-01   1.61793488e-01   3.61894790e-01\n",
      "  -2.41388608e-01  -4.60614237e-02  -9.81491215e-01  -1.69796669e+00\n",
      "  -1.40565735e+00   5.51657179e-01  -7.48888536e-01   4.58670484e-01\n",
      "  -1.19103298e+00  -5.82453605e-02   1.21601796e+00  -3.43536765e-01\n",
      "  -2.48606339e+00   2.17508334e-01   3.64283167e-02   6.69374225e-02\n",
      "  -1.60808342e+00  -8.64472236e-01   5.58299193e-01  -1.10023534e+00\n",
      "  -1.61361065e-01   1.16367094e+00   3.56972771e-01  -2.18564802e+00\n",
      "   8.22381194e-02  -1.07233375e+00  -5.19062982e-01  -1.00862344e+00\n",
      "   1.35169055e+00  -1.09299891e+00   7.89948703e-01  -1.48530594e+00\n",
      "   6.37673359e-01  -7.52515851e-01   3.11374345e-01  -3.00423950e-01\n",
      "  -2.88475878e-01  -1.61041952e+00  -2.05383620e-01  -6.05138203e-01\n",
      "  -1.51105425e+00   1.86435850e-01   1.30624756e+00  -1.43021875e+00\n",
      "  -6.59673371e-01   2.42348554e-01  -1.57414028e+00   3.96327723e-01\n",
      "  -2.27254868e-01  -3.63840143e-01   5.04301663e-01   1.35228445e-01\n",
      "  -1.38306510e+00  -4.41590543e-01  -2.16160136e+00   1.35666309e+00\n",
      "  -6.03906160e-02  -2.73891486e-01   2.28920274e+00  -9.39702116e-01\n",
      "  -2.34404556e-01   4.04189157e-01  -8.59926654e-02   3.14673690e-01\n",
      "   1.15741393e+00  -7.03837914e-01  -1.25962657e-01   2.08796000e+00\n",
      "   2.31847809e-01   2.16565742e-01  -1.34813202e-01  -6.64042551e-01\n",
      "  -3.03503046e-01  -4.44429335e-01  -4.69889223e-03   2.14034372e-01\n",
      "  -2.65097808e-01  -1.96656086e+00  -2.75457215e-01   1.20921880e-01\n",
      "  -5.48120124e-01  -1.36704145e+00  -2.14962319e-01  -1.72399767e+00\n",
      "  -1.20703356e-01  -2.01664441e+00  -1.78135741e+00  -1.68697338e+00\n",
      "  -1.99015610e+00  -8.84659476e-01  -5.19879193e-01   2.23935448e-01\n",
      "   5.62941574e-01  -1.01619917e+00  -5.15366528e-01   3.92487903e-01\n",
      "  -3.79508387e-01   5.68903537e-01   2.84440467e-01   8.41780988e-02\n",
      "  -2.01723781e-01  -3.11766284e-01  -7.99219697e-01  -3.11536707e-01\n",
      "  -1.15656685e+00   5.51710214e-01  -7.10029822e-01  -7.66720607e-01\n",
      "   1.47054147e-01   1.22204598e+00  -1.21237286e+00  -4.19265775e-01\n",
      "   7.36527941e-01   1.14355680e+00  -5.11626147e-01  -9.56990064e-01\n",
      "  -1.16524130e+00   5.55639235e-01   1.08143975e+00  -2.84918775e-01\n",
      "  -3.23734962e-01  -5.58754886e-01   1.02207922e+00  -3.51863101e-01\n",
      "  -4.49670804e-01  -1.04416513e-01   2.35782124e+00   1.43467420e+00\n",
      "   1.35174072e+00   2.95455789e-01  -4.03176739e-01  -1.47904667e+00\n",
      "  -1.39217071e+00  -2.74113394e-01   1.58793345e+00   7.75163894e-01\n",
      "   1.09866114e+00   7.46601044e-01  -1.61056909e+00  -1.23992213e+00\n",
      "  -5.19752707e-01   3.15716574e-01  -1.15239988e+00   2.31835525e+00\n",
      "   1.98410726e-03   1.68696489e+00   9.26255888e-01  -5.22850609e-01\n",
      "   2.89724884e-01   9.16367607e-01  -7.60990123e-01  -2.24042848e-01\n",
      "  -6.78718312e-01   2.47016505e-01   3.59013935e-01   8.15574119e-02\n",
      "   2.19615675e+00   6.93138405e-01   1.44602403e+00   1.23005746e+00\n",
      "   6.44033373e-01   1.02710090e-02  -1.57302082e+00  -8.95741315e-01\n",
      "  -1.83778319e+00  -1.40760152e+00   4.14218644e-01   8.04773368e-01\n",
      "  -9.40932216e-01   2.70038254e-01   1.66349499e+00   1.11162348e+00\n",
      "   1.74121102e-01  -3.32407962e-01   1.32049063e+00  -7.92753374e-01\n",
      "  -1.03963720e+00   7.39833713e-01  -3.10860127e+00   1.04734685e+00\n",
      "   1.22951314e+00  -2.83551617e-02   6.01515882e-01  -2.84770659e+00\n",
      "   4.26689640e-01   2.86321858e-01  -9.30177698e-01  -9.34538986e-01\n",
      "   5.97912625e-01  -1.50685626e-01   7.88305395e-01  -4.48729923e-01\n",
      "   2.28191720e-02  -2.17051977e+00   8.77006320e-01  -8.63780411e-01\n",
      "  -1.48921280e-01  -5.46284555e-01  -8.70392722e-01  -1.02289965e+00\n",
      "  -3.96585422e-01  -1.85494116e+00  -3.03724413e-02  -9.18982595e-01\n",
      "   1.00261820e+00   8.52366922e-01   2.46657878e-01   1.19994188e-01\n",
      "  -3.29533166e+00  -1.28807708e+00   4.03431851e-01   8.26300350e-01\n",
      "  -5.97907000e-01  -4.96952395e-01  -1.35086186e+00  -1.12278770e+00\n",
      "   3.15243944e-01   5.64818994e-01  -5.76158036e-01  -5.38809252e-01\n",
      "   1.00432379e+00  -4.69212776e-01  -1.18068152e+00  -1.55654387e+00\n",
      "  -2.25953265e-01  -7.82660401e-01   1.78602576e-01   4.26488607e-01\n",
      "   2.79723432e-01   1.01918475e+00   5.58892184e-01  -2.72170401e-01\n",
      "  -1.43005733e-01  -2.41932894e-01  -1.91616066e+00  -5.31676713e-01\n",
      "  -2.46917201e-01  -5.44936742e-01   1.21616812e+00   9.36378449e-01\n",
      "   7.59920058e-02  -3.54730525e-01   3.83525442e-03  -8.68191252e-01\n",
      "   6.91252839e-02   1.50769562e+00   7.88562324e-01   4.43711355e-01\n",
      "  -7.34255325e-01  -1.28269656e+00   1.20067587e+00  -7.95406431e-01\n",
      "   1.31821473e+00   1.51994033e+00  -1.31620140e+00   1.52013888e+00\n",
      "   3.42323280e-02   8.27203970e-01   2.06372772e+00  -9.85632407e-01\n",
      "   9.13160399e-01  -4.21051210e-01   1.94342569e+00   2.04316369e+00\n",
      "  -1.39114798e+00   1.15844363e+00  -2.69594861e-01  -2.61740627e-02\n",
      "  -1.40472943e+00   7.60789276e-01  -1.16389525e+00  -6.79090819e-01\n",
      "  -7.91557665e-01   1.54107472e+00   3.80703034e-01   9.73358807e-02\n",
      "  -9.45714327e-01   4.17000320e-01  -7.37831913e-01   3.24953663e-01\n",
      "   6.11564810e-01   1.12043489e+00  -4.19627950e-01  -1.09624064e+00\n",
      "   1.38532915e+00   7.18697661e-01  -9.70622493e-01   7.09585998e-01\n",
      "  -6.43110099e-01   2.03403232e+00  -2.79892923e-01  -7.43881006e-01\n",
      "  -7.37497264e-01  -3.01461696e-01   5.11990613e-01  -1.67889080e-01\n",
      "  -6.95191911e-01  -4.10124151e-01  -7.25511754e-01   1.93658436e-01\n",
      "   7.82308762e-01   1.04312047e+00  -1.48507603e-01  -5.93602157e-01\n",
      "   1.52703170e+00   7.24053833e-01   1.31545267e+00   1.72481799e-01\n",
      "   8.04825019e-01  -5.91090822e-01  -9.61360009e-01   8.96763906e-02\n",
      "   1.24522210e+00  -1.29971356e+00   7.69997309e-01   2.28111803e-01\n",
      "   4.63334382e-01  -1.96688245e-01  -7.21876439e-01   1.42709535e+00\n",
      "  -1.19955234e-01   7.76660015e-03  -8.09840127e-01  -2.97374302e-01\n",
      "  -1.53772993e+00   8.13428249e-01  -8.32920155e-02  -2.19325339e+00\n",
      "  -9.48696499e-01  -2.06302294e+00   1.95577989e-01  -6.60049193e-01\n",
      "   6.23526434e-01  -7.39870117e-01  -5.92694234e-01   1.68278760e+00\n",
      "   5.26454644e-01  -7.75840073e-01  -1.05142888e+00  -1.98157354e+00\n",
      "  -7.39438303e-01  -1.05759665e+00   5.61824665e-01   1.77099262e-01\n",
      "   8.01810621e-01  -9.34763636e-01  -1.24120180e+00  -1.07558673e+00\n",
      "   3.74267796e-01  -1.27125130e+00  -6.47184390e-01  -8.01418773e-01\n",
      "  -1.89714796e+00   3.09378166e-01   2.50755091e-01  -4.64665992e-01\n",
      "  -1.18213473e+00  -1.76833700e+00  -1.72014281e-01   7.44861211e-02\n",
      "  -1.87042378e+00  -7.74992768e-01  -2.37729995e-01  -8.65871766e-01\n",
      "  -8.62119534e-01  -6.63633572e-01  -8.00267045e-01   9.47969687e-01\n",
      "  -1.08352977e+00  -3.10017749e-01   1.37140969e+00   1.13229655e+00\n",
      "   2.41241035e-02  -1.12418456e+00   1.19977570e+00  -3.22151191e-01\n",
      "  -1.01076324e+00  -9.47769465e-01  -7.50775225e-01  -2.00624740e-01\n",
      "  -5.95142013e-01   1.90515092e-01   1.45131922e-01  -7.69815266e-01\n",
      "  -3.58427630e-02  -6.78405248e-01  -1.36456062e+00  -7.93948556e-01\n",
      "  -6.22772621e-01   3.40955858e-01   1.07581628e+00  -1.20055674e+00\n",
      "   1.10831352e+00   2.75281580e-01   8.02369836e-01   2.61976741e-01\n",
      "   2.52181933e+00  -1.56979587e+00   1.15531030e+00   1.90146535e-01\n",
      "  -6.68140376e-01  -2.83714246e-01  -3.61178682e-01   6.36274743e-02\n",
      "   1.69352188e+00   7.43797597e-01  -8.53230396e-01   2.96587674e-01\n",
      "   1.15873898e+00   2.89732163e-01   9.02807825e-01   1.62528280e+00\n",
      "   8.35693524e-02  -1.42112995e-01  -3.40315386e-01  -2.44874488e-01\n",
      "   3.19893259e-01  -1.39189647e+00   4.75243800e-01   9.71169271e-01\n",
      "   5.67058861e-01   1.96731190e+00  -6.44215934e-01  -1.28859558e-01\n",
      "  -1.83593704e+00   7.19107327e-01  -3.05269640e-01  -1.44036955e-01\n",
      "  -4.72175405e-01  -5.16044493e-01  -1.08821656e-01   5.93965974e-01\n",
      "   7.83838120e-01   3.15893293e-02  -8.87977081e-03  -7.94748386e-01\n",
      "   1.29745837e+00   2.71125220e-01   7.31693896e-01  -5.18290863e-01\n",
      "  -1.33826002e+00  -4.41132481e-02   7.54822784e-01   1.58219921e-01\n",
      "   4.15436864e-01   5.51644600e-01   5.45878611e-01   1.10707659e+00\n",
      "  -5.30572956e-01  -9.34400473e-01  -4.45935701e-01   8.91090205e-02\n",
      "   9.99477967e-02   9.01875048e-01   2.96076779e-01  -1.00271666e+00\n",
      "   7.22462369e-01   7.66670976e-01   1.97330931e-01  -1.48886208e+00\n",
      "  -1.31355090e+00  -7.50229707e-01  -1.33374343e+00   9.76592213e-01\n",
      "  -1.36718043e+00   8.32584547e-01   3.23577444e-01  -9.12405080e-01\n",
      "  -3.76640401e-01   1.02558320e-01  -9.40432194e-01  -1.74137237e-01\n",
      "   2.62930079e-01   1.74203698e+00   1.11251514e+00  -1.26908340e-01\n",
      "  -1.03065501e+00  -1.35248796e+00  -1.56531298e+00  -2.82636080e-01\n",
      "  -1.59770780e+00   8.04042190e-01  -6.36850791e-02  -1.64437447e+00\n",
      "   7.44833802e-02   1.59476433e-01  -4.58817861e-01   9.09612443e-01\n",
      "   1.79849553e+00   6.25700476e-01   1.44668452e+00   1.30172945e+00\n",
      "  -4.62960970e-01  -6.19232905e-01  -2.66019947e-01  -1.16664059e-01\n",
      "   1.44101005e-01  -3.29403067e-01   9.83193471e-01   2.29945427e-01\n",
      "  -5.30442187e-01   4.86904933e-01  -1.82191184e-02   3.94704432e-01\n",
      "  -7.95979365e-02  -4.26883996e-01  -5.10667775e-01   9.41280449e-01\n",
      "   2.67431549e-01  -1.92458912e+00   6.07372439e-01   3.30153066e-01\n",
      "  -5.85729221e-01  -1.95452877e-01   1.98955701e+00   9.23689273e-01\n",
      "   9.46660495e-01  -9.55877755e-01   9.40949003e-01   1.26626719e+00\n",
      "   6.10506119e-01   1.87871981e-01  -9.72644374e-01  -8.17383284e-01\n",
      "   6.09616410e-02   3.80234038e-01  -1.28972136e+00   5.62289274e-01\n",
      "   6.09435743e-01  -1.03165105e-01   2.51521331e-01   7.40061925e-01\n",
      "  -1.15466178e-01  -8.48887262e-01   3.73241628e-01  -8.51922301e-01\n",
      "  -2.36661832e-01   1.19295159e+00  -5.93732962e-01  -1.17894017e+00\n",
      "  -5.11872978e-01  -6.54347710e-01   1.64851218e+00   1.97925342e-01\n",
      "   7.01927622e-01  -9.62277498e-01   3.13495087e-01   6.98198744e-01\n",
      "   1.90224329e+00   1.19087036e+00   7.48007517e-01   1.45463706e+00\n",
      "   6.66182616e-02   2.57387551e-01  -4.38498903e-01  -1.14807979e+00\n",
      "   2.15130462e+00   1.49071697e-01   1.05693983e+00  -8.99657684e-01\n",
      "  -1.15318115e+00  -7.20938351e-01  -5.17863743e-01  -1.17055030e+00\n",
      "   4.89722313e-01   1.48353697e+00  -1.18152118e+00  -3.76489256e-01\n",
      "  -4.13716372e-01  -3.85093746e-01  -1.46314306e+00  -9.85630157e-01\n",
      "  -3.44598325e-01   1.20142967e+00  -4.77669563e-01   4.89218787e-01\n",
      "  -6.82689899e-01   1.30455157e-01  -7.55174545e-01   1.89650302e+00\n",
      "  -8.80334519e-01   1.01899981e-01   1.46766740e+00  -6.80360925e-01\n",
      "  -3.62400515e-01   2.11000626e+00   1.85615375e+00   1.77593369e+00\n",
      "   8.58998884e-01  -6.85069898e-01   6.86198638e-01  -7.06361140e-01\n",
      "  -5.48038757e-01  -4.42700144e-01   2.07590758e-01  -3.35087189e-01\n",
      "   5.47459301e-01  -1.21252668e+00  -7.91721263e-01  -4.48830354e-01\n",
      "   2.34930282e+00   1.78081960e+00   1.24286855e+00   2.33207182e-01\n",
      "  -2.53688653e-01   1.49817071e+00   5.46281231e-01   1.16519720e+00\n",
      "  -3.28961430e-02   2.73329171e-01  -1.84309278e+00   4.00435636e-02\n",
      "  -4.59947379e-01  -3.30888168e-02   7.16428835e-01   1.12763119e-01\n",
      "   3.84542332e-01  -4.62555153e-01   2.03316518e-01  -1.56129978e+00\n",
      "  -3.24836580e-01   7.88054472e-01   3.34296306e-01   7.66736293e-01\n",
      "  -1.19943009e+00  -1.24005599e+00   3.17877833e-01   1.30368104e+00\n",
      "  -3.84031522e-01  -1.78265819e+00  -2.27313176e+00   5.98910676e-01\n",
      "  -3.04567539e-02   9.40827299e-01  -8.71101164e-01  -1.73059807e-01\n",
      "   1.93607476e-01   1.40706837e+00   2.24745549e+00   9.72843591e-01\n",
      "  -3.26859249e-01   1.11268702e+00  -6.72041308e-02   7.19095754e-01\n",
      "   4.97944650e-01  -1.14534753e+00   8.75359041e-01   4.64833966e-01\n",
      "   1.02637767e+00  -2.55831329e-01   6.10910754e-01   9.54716228e-01\n",
      "   1.05161294e-01   5.96260801e-01  -4.58554595e-01  -7.44283943e-01\n",
      "   8.21820522e-01   1.30809341e-02  -2.25333236e+00  -7.68751461e-01\n",
      "  -9.10036171e-01   1.29274524e+00   5.78947607e-01  -9.50122905e-01\n",
      "  -5.87083321e-01  -7.56390701e-01   8.87638046e-01   3.10786958e-01\n",
      "   1.07377852e+00   8.53385346e-01  -1.07948381e-01  -4.21095705e-01\n",
      "   2.33348050e-02   5.24783536e-01   1.95003370e+00   5.34039913e-01\n",
      "   2.24229731e-01   1.56940149e+00   1.30645615e+00   6.06566531e-01\n",
      "  -1.54265752e-01   9.30821210e-01  -2.64078462e+00  -4.86145160e-01\n",
      "   7.61790093e-03  -1.95202249e+00   3.01394304e-01  -9.16820153e-01\n",
      "  -1.06001888e+00   3.47847745e-01  -6.21607404e-01  -1.63377763e+00\n",
      "   1.35326578e+00  -1.33565977e+00  -2.81630352e-01  -3.08602274e-01\n",
      "   1.52464484e+00   2.81307556e-01   6.36168240e-01  -1.05926111e+00\n",
      "  -5.06117025e-02   6.60322706e-01   2.16301671e+00  -5.74872168e-02] 0.0\n",
      "Final model:\n",
      "[ -2.43226776e-02  -3.09264276e-03  -2.31578141e-01   1.94244768e-02\n",
      "   2.70104728e-02  -4.83301761e-02   3.36820565e-02   5.04681768e-02\n",
      "  -1.43419609e-02  -2.87360265e-02   1.75089793e-01  -2.86008646e-02\n",
      "  -9.74379473e-03  -5.16732089e-02  -4.78220329e-02   1.29883910e-02\n",
      "  -9.78397413e-02  -5.77081947e-02   4.87373748e-03  -6.67002957e-02\n",
      "   6.08187824e-02   1.45903743e-01   7.87247257e-02  -6.83548961e-02\n",
      "   8.47763766e-02   1.97134965e-02  -1.24056530e-01  -6.42987761e-02\n",
      "  -5.44014018e-02  -4.77899281e-02  -5.95991246e-02  -2.99226273e-02\n",
      "  -9.37743433e-02   1.35613061e-01  -5.29435922e-02   2.28320258e-01\n",
      "  -1.28796351e-01   1.11719217e-01   8.96776125e-03   4.33075028e-02\n",
      "   1.62156104e-03   2.20226449e-01   1.89856309e-02   9.69971588e-02\n",
      "   1.23494314e-02   1.50156577e-02  -4.57697696e-02   1.79076443e-01\n",
      "  -6.29318245e-02  -1.36101652e-01   2.42811334e-02   5.13734301e-02\n",
      "  -4.26936311e-02   1.96398808e-02   1.45469236e-02   2.13655633e-02\n",
      "  -1.21723981e-01  -4.03205225e-02   6.13404815e-02  -1.02021894e-01\n",
      "   1.14868730e-01   3.07280212e-02   6.55015611e-02  -1.29192871e-01\n",
      "   1.20014947e-01  -4.52209303e-02   5.10124815e-02  -1.25515663e-02\n",
      "   6.63813712e-02  -3.04716152e-02   6.33758359e-02   2.79446725e-02\n",
      "  -8.03236420e-02  -6.40011993e-02   1.62352828e-01   1.03335901e-01\n",
      "  -1.42946390e-01  -4.09364468e-02   1.16189660e-01  -6.18052707e-02\n",
      "  -1.11977636e-01   3.33489808e-02  -5.75322379e-02  -1.93596435e-02\n",
      "   5.60170725e-02  -5.81054414e-02   2.07415618e-01   1.06327596e-01\n",
      "  -4.36374413e-02  -1.07319783e-01   7.94853503e-02   3.46640868e-02\n",
      "   2.39210512e-02  -1.07217143e-02  -2.06772377e-02  -2.32929587e-02\n",
      "  -1.63255979e-03  -1.10765744e-01  -5.53957073e-02  -5.65586394e-03\n",
      "   1.25131551e-01  -6.62831353e-02  -1.54016137e-01  -8.97788837e-02\n",
      "  -1.04798796e-02   8.40532967e-02   4.65254513e-03   6.61792247e-02\n",
      "   1.55068651e-01   1.54624622e-02   1.66904692e-01   3.92906005e-02\n",
      "   6.23679157e-02  -8.30399529e-02   1.60826842e-02   1.10666703e-01\n",
      "  -4.97945985e-02  -1.78240184e-01   3.60674138e-02  -5.40942977e-02\n",
      "  -3.50625910e-02   4.87922818e-02  -4.15451910e-02  -1.35884512e-01\n",
      "   1.00688152e-02   7.34310650e-02   4.92514514e-03  -1.70669342e-02\n",
      "  -7.31527955e-02  -7.65106326e-02   1.45092409e-01  -1.22059895e-01\n",
      "  -6.28189313e-02   1.07930198e-02   3.45214168e-02  -1.56634742e-01\n",
      "  -1.88219926e-01  -9.32524841e-02  -1.06594526e-02  -7.65897796e-03\n",
      "  -6.11626681e-02   6.80566440e-02  -1.19919564e-02  -2.28787260e-03\n",
      "   3.56274391e-02   1.83714154e-02  -1.54181854e-01  -1.30455651e-01\n",
      "  -5.67394289e-02   1.18236921e-02  -2.02070326e-02  -2.04795903e-02\n",
      "   3.64493881e-02   1.11474489e-02  -1.96601979e-01   9.88876168e-02\n",
      "   5.96716650e-02   1.30855171e-01  -8.26792083e-02   1.25499694e-01\n",
      "   5.33967208e-02   2.62495329e-02   2.68476183e-03  -2.99689093e-02\n",
      "  -4.93081678e-02   6.78987733e-02   1.07573660e-02   1.24755364e-01\n",
      "  -1.96863174e-02   9.12870112e-02   2.37941900e-02   2.02223120e-02\n",
      "   2.55257642e-02   3.85571527e-02  -5.14200086e-02   6.04035455e-02\n",
      "  -2.52861323e-02   1.80570606e-01   9.95062447e-03   2.04509958e-02\n",
      "  -2.74581446e-02   4.14806622e-02  -1.48262285e-01  -1.92887483e-02\n",
      "   4.65846548e-02  -3.34602253e-02   6.57985138e-02   4.56094055e-02\n",
      "   3.78976279e-02   8.49779006e-02   3.88051619e-02  -8.35537002e-02\n",
      "  -6.10713519e-02  -1.09501488e-01   4.56657147e-03   1.36653450e-01\n",
      "   2.96699193e-02   5.74198887e-02  -8.24677031e-03  -5.34652399e-03\n",
      "   3.83395733e-02   4.16251633e-02  -1.23312038e-01  -1.21334454e-03\n",
      "  -3.59269673e-02   9.04701952e-02   4.71617224e-02   1.15410441e-01\n",
      "   2.39739849e-02  -2.08992630e-01  -2.74512976e-01  -3.22112427e-03\n",
      "   1.69545496e-01  -7.27929670e-02   6.81595841e-02  -1.47595584e-01\n",
      "   1.08914339e-01   1.38787552e-02   8.59690471e-02   1.38743289e-03\n",
      "   1.19619694e-01   4.68812925e-03   4.43072452e-02  -2.10120099e-01\n",
      "   2.05285741e-01  -5.31830241e-03  -4.31420308e-02   5.91500514e-02\n",
      "   1.06764191e-01   6.61824586e-02  -2.37542555e-03  -5.76049921e-02\n",
      "   3.86033998e-02  -1.43003618e-01  -2.02556479e-02  -1.22680390e-01\n",
      "  -7.13771797e-02  -5.05596807e-02   9.45446024e-02  -4.15642752e-02\n",
      "  -1.25580117e-01   2.47805053e-02  -6.57519924e-02  -2.03364093e-02\n",
      "  -4.76922742e-02   5.79660851e-03  -1.45880728e-01  -6.77690921e-02\n",
      "   4.13001352e-02   5.84127767e-02   5.74277168e-02  -3.98995282e-02\n",
      "   1.24500158e-01  -9.37549053e-03  -5.50373848e-03  -6.59983153e-02\n",
      "   1.24336580e-01   5.29292142e-02  -1.64061585e-01   5.27378034e-04\n",
      "  -3.07635199e-02  -6.70014962e-03  -1.05437377e-01  -9.99111133e-02\n",
      "  -2.71293589e-02   7.66520892e-02   4.92687920e-02  -1.34247246e-01\n",
      "  -8.47840547e-02   4.54586237e-02   9.94601671e-02   3.83992593e-02\n",
      "  -5.30511346e-02  -1.82477828e-02   4.81901443e-02   9.38026778e-02\n",
      "   1.94127154e-01  -3.02296070e-03   6.55227514e-02  -9.00595499e-02\n",
      "  -5.48652517e-02  -3.60440355e-06  -8.17313657e-02  -3.18647190e-02\n",
      "  -1.38596105e-01   4.76753217e-02  -3.07290314e-02  -5.84075306e-02\n",
      "  -7.75571698e-02   1.39753696e-01   8.58790394e-02   7.47606013e-02\n",
      "   3.07311604e-02   8.64543905e-02   9.88775867e-02  -6.58039952e-02\n",
      "  -1.04987469e-01  -7.69049001e-03   5.62974327e-03   8.13579429e-02\n",
      "   3.45771461e-02  -1.59301566e-01   3.40696635e-03   1.01163897e-01\n",
      "  -2.45521580e-03   1.38299445e-01   4.29721690e-02   9.93056924e-02\n",
      "  -4.82152512e-02   5.68719665e-02   1.09485663e-01  -1.59839980e-01\n",
      "  -4.95040842e-02  -1.41150141e-02  -1.53993150e-02   2.87712195e-02\n",
      "   9.38996019e-02  -3.80457286e-02  -8.55667773e-02   1.29131855e-01\n",
      "  -1.05165073e-01  -3.61846817e-02  -2.44315342e-02   2.31301780e-01\n",
      "   4.77341510e-02   3.48676253e-02  -1.22220094e-01  -6.63418925e-02\n",
      "   1.52710493e-02  -7.61826569e-02  -5.64560494e-02  -6.34111321e-02\n",
      "  -1.50727782e-02   1.35727663e-01   2.59261335e-02   1.14958039e-02\n",
      "   9.80053857e-02   1.47726925e-01   5.07630772e-02  -5.70177018e-02\n",
      "  -7.27278042e-02  -4.10419250e-02  -1.80037320e-01   4.58739106e-02\n",
      "   1.32234559e-01   6.94860627e-02   3.37325331e-02   1.09885010e-01\n",
      "   1.57171917e-01   1.98773518e-02  -1.05359643e-01  -3.53790076e-02\n",
      "   4.74269312e-02   7.12897325e-02  -8.26970254e-02   9.51976180e-02\n",
      "   2.12425660e-02   6.26512779e-02  -3.12577206e-02  -4.28042164e-02\n",
      "  -1.84674743e-02  -2.12136878e-02   3.72500012e-02  -3.07873782e-02\n",
      "   1.04478456e-01   5.11626114e-02   5.20088735e-03   1.64860776e-01\n",
      "  -1.70044254e-01  -4.23334452e-02  -1.38252206e-01   4.75129659e-02\n",
      "  -5.62936837e-02   1.82226625e-02   2.72353215e-02  -1.53694517e-01\n",
      "  -1.22138923e-01  -5.96260828e-02   7.17509808e-02   1.55652795e-02\n",
      "  -3.02146267e-02  -2.83947260e-02  -7.45188645e-02  -2.41699817e-02\n",
      "  -1.26618261e-01   6.24760787e-02   1.54723760e-01   4.18226118e-02\n",
      "  -8.44895572e-02   1.13699723e-01  -2.50125663e-02  -1.90939874e-03\n",
      "  -2.21709389e-01  -5.83753919e-02  -1.87488839e-01   9.75745435e-03\n",
      "  -5.02595536e-03  -4.21242553e-02   4.02618161e-02  -8.84699651e-02\n",
      "   8.90562924e-03   9.06189516e-02   1.78925934e-02  -1.15107887e-02\n",
      "  -1.09554298e-01  -3.43270574e-02   2.18597726e-01  -1.20762073e-01\n",
      "  -3.12552740e-02   2.11771374e-01   1.47598519e-01  -1.17627446e-02\n",
      "  -1.36293282e-01  -8.57685056e-02   1.42036653e-01  -3.59211264e-02\n",
      "   1.22199825e-02   9.21978853e-02   7.51989635e-03  -4.05804444e-02\n",
      "   5.79220123e-02  -1.01774983e-01   5.85682291e-02  -9.43576883e-02\n",
      "   4.45790961e-02   3.51322790e-02   1.10066704e-01   1.09802373e-01\n",
      "  -2.78211712e-01   1.12660633e-01   6.87191296e-03   8.68798554e-02\n",
      "  -1.89851417e-02   5.99241972e-02  -1.03265827e-01  -5.51872031e-02\n",
      "   1.26200114e-01  -1.43449758e-01  -7.31961305e-02  -1.50300436e-01\n",
      "   9.76837879e-03  -1.83359879e-01  -3.64550162e-02  -1.02711770e-01\n",
      "   4.23906737e-02  -6.73457640e-02   4.13728739e-02  -6.79205994e-02\n",
      "   1.07132700e-01  -1.60576317e-01   3.04704609e-02  -4.99452123e-03\n",
      "   1.57893691e-01  -7.20326523e-02  -7.17063652e-02  -6.70986670e-02\n",
      "   4.10610476e-02  -1.09178955e-01  -2.55219737e-02  -5.59447773e-02\n",
      "   2.82717829e-02  -4.07553083e-02  -1.18709043e-01  -3.66017753e-02\n",
      "   1.68961970e-02   8.96310234e-02  -1.46145529e-01  -6.97622185e-02\n",
      "  -4.98114883e-02  -2.99035343e-02  -4.27690508e-03   5.76994560e-02\n",
      "   5.77172581e-02  -1.69228539e-01   3.31430839e-02   9.65158846e-02\n",
      "  -2.21248808e-01  -1.01050486e-01   2.53157376e-02   9.68119574e-03\n",
      "  -1.62396931e-01   2.28150725e-02  -8.77774829e-02  -5.61550935e-02\n",
      "   2.54129377e-02   2.33280879e-02  -1.66625499e-01   2.91130425e-02\n",
      "   1.39016329e-01   8.52442743e-02   2.24538073e-02  -1.03475856e-02\n",
      "   7.06393198e-02  -5.34555706e-02  -6.10934585e-02  -1.11371453e-01\n",
      "   1.06424849e-01   1.67695129e-02  -1.35120429e-01  -1.13601369e-01\n",
      "   1.09151551e-01  -3.28005532e-02  -2.16136657e-01  -6.11763521e-02\n",
      "  -1.04395180e-01  -3.23136258e-02   5.55882610e-02  -1.90345857e-01\n",
      "  -4.19464297e-02  -5.43540177e-02  -3.00478539e-02   9.31975004e-02\n",
      "  -6.35109613e-02  -2.05768221e-01   1.04656402e-01   6.33761343e-02\n",
      "  -8.54017137e-02  -3.84451595e-02   9.62535742e-02  -4.64583371e-02\n",
      "   1.32438463e-01   6.97782264e-02  -8.87515014e-02  -1.12621073e-02\n",
      "  -6.05412793e-02   2.48746265e-02  -1.19391055e-01  -8.81767721e-03\n",
      "   2.63307677e-03   2.78542353e-02  -8.79343359e-03  -9.45093191e-02\n",
      "  -6.28720139e-02  -1.09124910e-01  -1.28200110e-01   1.42045759e-01\n",
      "   1.61734134e-02  -1.36025562e-01   5.31622296e-02   7.46816128e-02\n",
      "  -1.53682454e-02  -6.72254914e-02   3.10470374e-02  -9.40465200e-03\n",
      "   1.30596296e-01   1.58084998e-02   7.32068296e-02  -1.29321001e-01\n",
      "   1.31084908e-01   1.57468552e-01  -1.10190861e-01  -2.26715661e-01\n",
      "   2.58150126e-02   4.85532810e-02   1.01429223e-01   4.04893886e-02\n",
      "  -1.21021183e-01   8.07427369e-02  -5.65879534e-02  -4.84351438e-02\n",
      "   4.18275452e-02  -6.58106233e-02  -2.03337858e-02  -8.11799942e-02\n",
      "  -4.87198977e-02  -4.66411178e-02   1.13874430e-01  -3.39553228e-02\n",
      "  -1.23933810e-01   1.36816303e-02  -1.13551365e-01   2.32255931e-01\n",
      "  -7.80644801e-03   9.21278687e-02   1.74277904e-02   2.44669883e-01\n",
      "   1.83470811e-02  -1.31937046e-01   1.99704148e-01   3.25947834e-02\n",
      "  -1.27770756e-01   1.24450323e-01  -9.39820972e-02   1.24083409e-01\n",
      "  -1.37124028e-01   1.60603126e-02  -8.41278410e-02  -1.36955258e-01\n",
      "   2.04020356e-01   1.21793154e-01  -9.63084732e-03   1.49847301e-01\n",
      "   4.61628993e-02   4.86339719e-02  -1.73158663e-01   7.20599984e-02\n",
      "   2.58305935e-02  -2.54578014e-02  -1.02371889e-01   2.54335001e-02\n",
      "   8.46165559e-02  -3.17833347e-02   6.15831093e-03   3.62624685e-02\n",
      "   1.12486219e-01  -2.51873248e-02   5.67789858e-02  -3.06055579e-02\n",
      "  -1.03366574e-01  -9.27611078e-02   3.82754263e-03   2.34749838e-02\n",
      "  -3.03230222e-01  -6.05208254e-02   3.18293238e-03  -4.00154791e-02\n",
      "  -1.14037061e-01   2.80821022e-02   6.50873745e-02   9.46786777e-02\n",
      "   3.53414656e-02  -1.52619683e-01  -8.06342738e-02  -1.02914679e-01\n",
      "  -2.17128579e-01   2.34917595e-01   4.18825308e-02   6.72344707e-02\n",
      "  -9.83212158e-02   1.15580731e-01   1.07286540e-01   1.30912033e-01\n",
      "   1.09691733e-01   1.53135714e-01  -2.95155264e-02   7.10555192e-03\n",
      "  -6.60761242e-02  -1.31206098e-02  -1.01371479e-02  -3.29062447e-02\n",
      "   6.95930705e-02   3.64500747e-02   2.01292502e-02   1.99785099e-02\n",
      "   2.59932920e-02   2.87905346e-02   2.96851375e-02   1.56561213e-01\n",
      "  -1.43531104e-01  -5.46378457e-02   2.20852654e-02  -2.84128866e-02\n",
      "  -6.35871964e-02  -1.53560811e-02   7.43423508e-04  -4.95123963e-02\n",
      "   1.16706703e-01  -1.36913426e-01   1.02000290e-03   1.70403544e-01\n",
      "   3.07178996e-03   6.94659238e-02   7.73146764e-02   1.18235326e-01\n",
      "   8.13902268e-02   1.14738553e-01  -1.39335628e-01  -1.49982476e-01\n",
      "   1.43949867e-01  -1.24312123e-01  -5.52011218e-02   1.18908013e-01\n",
      "   1.38199069e-01   3.55015081e-02   2.39284454e-01  -1.24110972e-01\n",
      "  -8.44166796e-02   1.88200965e-01  -1.05002413e-01   4.94201075e-02\n",
      "   2.67019872e-02  -1.68337825e-01   1.46939999e-01  -3.61873076e-02\n",
      "   2.46960261e-02  -1.22797328e-01  -1.58538864e-01   2.50802639e-02\n",
      "   6.34690558e-02  -7.27872179e-02  -1.67811200e-01   1.22825333e-01\n",
      "  -7.54277078e-04  -8.87185515e-03   3.96271038e-02   6.71999484e-02\n",
      "   1.51570397e-01  -9.26529423e-02   4.70848526e-02  -1.05916931e-02\n",
      "   6.83402215e-02  -2.53967574e-02   8.76447992e-02  -3.12871614e-03\n",
      "  -4.53955777e-02   1.16559188e-02  -1.57284230e-01   1.14474093e-02\n",
      "   6.78536932e-02   4.84142153e-02   1.03331408e-02  -1.06230408e-01\n",
      "   1.96415479e-02   1.60662428e-02  -3.77875563e-02   1.32630393e-01\n",
      "  -1.27420605e-01  -2.20596447e-02   4.12613810e-02  -2.06243559e-02\n",
      "   4.54706348e-02  -2.07033518e-02  -1.24906114e-02  -1.73129867e-01\n",
      "   1.08679835e-01  -3.79104405e-02  -1.34114751e-02  -9.15611994e-02\n",
      "   4.56998310e-02   8.53262337e-02   1.68168231e-01   1.89656779e-01\n",
      "   5.54045151e-02   7.93925377e-02  -1.75845429e-01  -2.16500885e-02\n",
      "   4.04937291e-02  -9.74160586e-02   8.97309823e-02  -1.16038885e-02\n",
      "   2.31495471e-01  -9.13604079e-02   1.06463509e-01  -1.79886088e-01\n",
      "  -7.81371406e-02  -4.95454923e-02  -1.63137692e-01  -4.70002306e-02\n",
      "   2.67015618e-01  -1.50379788e-02  -2.93558606e-02  -6.22897429e-02\n",
      "   1.45326891e-01   2.70765555e-02   4.00649442e-02   7.92328295e-02\n",
      "  -1.43824182e-02   4.14892355e-02   3.64748201e-02  -6.75202605e-03\n",
      "  -1.96546787e-03   8.09736195e-02  -2.09284366e-02   2.86519674e-02\n",
      "  -1.67701124e-01  -3.37532441e-02  -1.84135476e-02  -2.77889889e-02\n",
      "   1.72578555e-01  -8.00853255e-02  -1.30659048e-02  -3.86708150e-02\n",
      "  -3.01923937e-01  -2.33371152e-02  -1.46687256e-02  -1.57999691e-02\n",
      "   1.70165569e-01  -1.12815379e-01  -3.27009090e-02   7.54387372e-02\n",
      "  -2.25600283e-01  -1.29338369e-01   5.92737439e-02  -1.25087853e-01] 0.254109345035\n",
      "target values for D: [0 1 1 1 1 1 1 1 1 0 0 1 1 0 1 0 1 0 0 0 1 1 1 1 0 0 1 1 0 1 0 1 0 0 1 0 0\n",
      " 0 0 0 1 1 0 1 0 0 1 1 0 1 1 0 0 0 1 1 0 0 0 1 1 0 1 0 1 0 0 0 1 1 0 1 1 1\n",
      " 1 0 1 1 0 1 0 1 0 1 0 1 1 0 1 0 1 0 1 1 0 1 0 1 1 1 1 1 1 1 1 1 0 1 0 1 0\n",
      " 1 1 1 0 1 1 0 1 1 0 1 0 1 0 1 0 0 1 1 0 0 0 1 0 1 0 1 1 0 0 0 1 1 1 1 0 0\n",
      " 1 1 1 1 1 1 1 1 0 1 0 0 1 0 0 1 0 1 1 0 0 0 1 1 0 0 0 1 0 1 0 1 1 0 1 0 0\n",
      " 0 1 0 0 0 0 1 0 1 1 0 0 1 0 1 0 0 0 0 0 0 1 0 0 1 0 1 1 0 0 1 1 1 1 1 1 0\n",
      " 1 0 1 0 1 1 1 0 0 0 0 1 1 0 0 1 1 0 0 0 1 0 1 1 1 1 0 1 0 1 0 0 1 0 0 1 0\n",
      " 1 1 1 1 1 0 0 1 1 1 1 0 0 1 0 0 0 1 0 1 1 1 1 0 1 1 1 1 1 0 1 0 1 1 0 1 0\n",
      " 1 0 1 0 0 1 1 0 0 1 0 0 0 1 1 0 1 1 1 1 1 1 1 0 0 0 0 0 1 0 0 1 1 1 1 1 1\n",
      " 0 1 1 0 1 1 1 0 1 1 0 0 0 1 0 0 1 0 1 1 0 0 0 1 1 0 0 1 0 1 0 0 0 1 0 1 1\n",
      " 1 1 0 0 0 0 1 1 1 1 1 0 0 1 0 0 1 0 0 1 1 1 0 0 1 0 0 1 0 0]\n",
      "prediction on D: [0 1 1 1 1 1 1 1 1 0 0 1 1 0 1 0 1 0 0 0 1 1 1 1 0 0 1 1 0 1 0 1 0 0 1 0 0\n",
      " 0 0 0 1 1 0 1 0 0 1 1 0 1 1 0 0 0 1 1 0 0 0 1 1 0 1 0 1 0 0 0 1 1 0 1 1 1\n",
      " 1 0 1 1 0 1 0 1 0 1 0 1 1 0 1 0 1 0 1 1 0 1 0 1 1 1 1 1 1 1 1 1 0 1 0 1 0\n",
      " 1 1 1 0 1 1 0 1 1 0 1 0 1 0 1 0 0 1 1 0 0 0 1 0 1 0 1 1 0 0 0 1 1 1 1 0 0\n",
      " 1 1 1 1 1 1 1 1 0 1 0 0 1 0 0 1 0 1 1 0 0 0 1 1 0 0 0 1 0 1 0 1 1 0 1 0 0\n",
      " 0 1 0 0 0 0 1 0 1 1 0 0 1 0 1 0 0 0 0 0 0 1 0 0 1 0 1 1 0 0 1 1 1 1 1 1 0\n",
      " 1 0 1 0 1 1 1 0 0 0 0 1 1 0 0 1 1 0 0 0 1 0 1 1 1 1 0 1 0 1 0 0 1 0 0 1 0\n",
      " 1 1 1 1 1 0 0 1 1 1 1 0 0 1 0 0 0 1 0 1 1 1 1 0 1 1 1 1 1 0 1 0 1 1 0 1 0\n",
      " 1 0 1 0 0 1 1 0 0 1 0 0 0 1 1 0 1 1 1 1 1 1 1 0 0 0 0 0 1 0 0 1 1 1 1 1 1\n",
      " 0 1 1 0 1 1 1 0 1 1 0 0 0 1 0 0 1 0 1 1 0 0 0 1 1 0 0 1 0 1 0 0 0 1 0 1 1\n",
      " 1 1 0 0 0 0 1 1 1 1 1 0 0 1 0 0 1 0 0 1 1 1 0 0 1 0 0 1 0 0]\n"
     ]
    }
   ],
   "source": [
    "import numpy\n",
    "import theano\n",
    "import theano.tensor as T\n",
    "rng = numpy.random\n",
    "\n",
    "N = 400\n",
    "feats = 784\n",
    "D = (rng.randn(N, feats), rng.randint(size=N, low=0, high=2))\n",
    "training_steps = 10000\n",
    "\n",
    "# Declare Theano symbolic variables\n",
    "x = T.matrix(\"x\")\n",
    "y = T.vector(\"y\")\n",
    "w = theano.shared(rng.randn(feats), name=\"w\")\n",
    "b = theano.shared(0., name=\"b\")\n",
    "print \"Initial model:\"\n",
    "print w.get_value(), b.get_value()\n",
    "\n",
    "# Construct Theano expression graph\n",
    "p_1 = 1 / (1 + T.exp(-T.dot(x, w) - b))   # Probability that target = 1\n",
    "prediction = p_1 > 0.5                    # The prediction thresholded\n",
    "xent = -y * T.log(p_1) - (1-y) * T.log(1-p_1) # Cross-entropy loss function\n",
    "cost = xent.mean() + 0.01 * (w ** 2).sum()# The cost to minimize\n",
    "gw, gb = T.grad(cost, [w, b])             # Compute the gradient of the cost\n",
    "                                          # (we shall return to this in a\n",
    "                                          # following section of this tutorial)\n",
    "\n",
    "# Compile\n",
    "train = theano.function(\n",
    "          inputs=[x,y],\n",
    "          outputs=[prediction, xent],\n",
    "          updates=((w, w - 0.1 * gw), (b, b - 0.1 * gb)))\n",
    "predict = theano.function(inputs=[x], outputs=prediction)\n",
    "\n",
    "# Train\n",
    "for i in range(training_steps):\n",
    "    pred, err = train(D[0], D[1])\n",
    "\n",
    "print \"Final model:\"\n",
    "print w.get_value(), b.get_value()\n",
    "print \"target values for D:\", D[1]\n",
    "print \"prediction on D:\", predict(D[0])"
   ]
  },
  {
   "cell_type": "markdown",
   "metadata": {},
   "source": [
    "# 참고자료"
   ]
  },
  {
   "cell_type": "markdown",
   "metadata": {},
   "source": [
    "* [1] Theano 0.7 Tutorial - http://deeplearning.net/software/theano/tutorial/index.html"
   ]
  }
 ],
 "metadata": {
  "kernelspec": {
   "display_name": "Python 2",
   "language": "python",
   "name": "python2"
  },
  "language_info": {
   "codemirror_mode": {
    "name": "ipython",
    "version": 2
   },
   "file_extension": ".py",
   "mimetype": "text/x-python",
   "name": "python",
   "nbconvert_exporter": "python",
   "pygments_lexer": "ipython2",
   "version": "2.7.3"
  }
 },
 "nbformat": 4,
 "nbformat_minor": 0
}
