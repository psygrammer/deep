{
 "cells": [
  {
   "cell_type": "markdown",
   "metadata": {},
   "source": [
    "# 01. theano 설치 및 환경설정,  Demo / NumPy refresher / Baby Steps - Algebra / More EXamples"
   ]
  },
  {
   "cell_type": "markdown",
   "metadata": {},
   "source": [
    "# 차례"
   ]
  },
  {
   "cell_type": "markdown",
   "metadata": {},
   "source": [
    "* 설치 및 환경설정\n",
    "* Demo\n",
    "* NumPy refresher\n",
    "* Baby Steps - Algebra\n",
    "* More EXamples"
   ]
  },
  {
   "cell_type": "markdown",
   "metadata": {},
   "source": [
    "# 설치 및 환경설정"
   ]
  },
  {
   "cell_type": "code",
   "execution_count": 59,
   "metadata": {
    "collapsed": false
   },
   "outputs": [
    {
     "name": "stdout",
     "output_type": "stream",
     "text": [
      "Requirement already satisfied (use --upgrade to upgrade): theano in /home/moosung/.venv/deep/lib/python2.7/site-packages\r\n",
      "Requirement already satisfied (use --upgrade to upgrade): numpy>=1.6.2 in /home/moosung/.venv/deep/lib/python2.7/site-packages (from theano)\r\n",
      "Requirement already satisfied (use --upgrade to upgrade): scipy>=0.11 in /home/moosung/.venv/deep/lib/python2.7/site-packages (from theano)\r\n",
      "Cleaning up...\r\n"
     ]
    }
   ],
   "source": [
    "!pip install theano"
   ]
  },
  {
   "cell_type": "markdown",
   "metadata": {},
   "source": [
    "# Demo"
   ]
  },
  {
   "cell_type": "markdown",
   "metadata": {},
   "source": [
    "# NumPy refresher"
   ]
  },
  {
   "cell_type": "markdown",
   "metadata": {},
   "source": [
    "* Matrix conventions for machine learning\n",
    "* Broadcasting"
   ]
  },
  {
   "cell_type": "markdown",
   "metadata": {},
   "source": [
    "## Matrix conventions for machine learning"
   ]
  },
  {
   "cell_type": "code",
   "execution_count": 1,
   "metadata": {
    "collapsed": true
   },
   "outputs": [],
   "source": [
    "import numpy"
   ]
  },
  {
   "cell_type": "markdown",
   "metadata": {},
   "source": [
    "This is a 3x2 matrix, i.e. there are 3 rows and 2 columns."
   ]
  },
  {
   "cell_type": "code",
   "execution_count": 2,
   "metadata": {
    "collapsed": false
   },
   "outputs": [
    {
     "name": "stdout",
     "output_type": "stream",
     "text": [
      "[[ 1.  2.]\n",
      " [ 3.  4.]\n",
      " [ 5.  6.]]\n"
     ]
    }
   ],
   "source": [
    "a = numpy.asarray([[1., 2], [3, 4], [5, 6]])\n",
    "print a"
   ]
  },
  {
   "cell_type": "code",
   "execution_count": 3,
   "metadata": {
    "collapsed": false
   },
   "outputs": [
    {
     "data": {
      "text/plain": [
       "(3, 2)"
      ]
     },
     "execution_count": 3,
     "metadata": {},
     "output_type": "execute_result"
    }
   ],
   "source": [
    "a.shape"
   ]
  },
  {
   "cell_type": "code",
   "execution_count": 4,
   "metadata": {
    "collapsed": false
   },
   "outputs": [
    {
     "data": {
      "text/plain": [
       "5.0"
      ]
     },
     "execution_count": 4,
     "metadata": {},
     "output_type": "execute_result"
    }
   ],
   "source": [
    "# row 3, colum 1 - 요소에 접근하기\n",
    "a[2,0]"
   ]
  },
  {
   "cell_type": "markdown",
   "metadata": {},
   "source": [
    "## Broadcasting"
   ]
  },
  {
   "cell_type": "markdown",
   "metadata": {},
   "source": [
    "* Numpy does broadcasting of arrays of different shapes during arithmetic operations. What this means in general is that the smaller array (or scalar) is broadcasted across the larger array so that they have compatible shapes. The example below shows an instance of broadcastaing:"
   ]
  },
  {
   "cell_type": "code",
   "execution_count": 5,
   "metadata": {
    "collapsed": false
   },
   "outputs": [
    {
     "name": "stdout",
     "output_type": "stream",
     "text": [
      "[ 1.  2.  3.]\n"
     ]
    }
   ],
   "source": [
    "a = numpy.asarray([1.0, 2.0, 3.0])\n",
    "print a"
   ]
  },
  {
   "cell_type": "code",
   "execution_count": 6,
   "metadata": {
    "collapsed": false
   },
   "outputs": [
    {
     "name": "stdout",
     "output_type": "stream",
     "text": [
      "2.0\n"
     ]
    }
   ],
   "source": [
    "b = 2.0\n",
    "print b"
   ]
  },
  {
   "cell_type": "code",
   "execution_count": 7,
   "metadata": {
    "collapsed": false
   },
   "outputs": [
    {
     "data": {
      "text/plain": [
       "array([ 2.,  4.,  6.])"
      ]
     },
     "execution_count": 7,
     "metadata": {},
     "output_type": "execute_result"
    }
   ],
   "source": [
    "a * b"
   ]
  },
  {
   "cell_type": "markdown",
   "metadata": {},
   "source": [
    "# Baby Steps - Algebra"
   ]
  },
  {
   "cell_type": "markdown",
   "metadata": {},
   "source": [
    "* Adding two Scalars\n",
    "* Adding two Matrices"
   ]
  },
  {
   "cell_type": "markdown",
   "metadata": {},
   "source": [
    "## Adding two Scalars"
   ]
  },
  {
   "cell_type": "code",
   "execution_count": 11,
   "metadata": {
    "collapsed": false
   },
   "outputs": [],
   "source": [
    "import theano.tensor as T\n",
    "from theano import function"
   ]
  },
  {
   "cell_type": "code",
   "execution_count": 12,
   "metadata": {
    "collapsed": true
   },
   "outputs": [],
   "source": [
    "x = T.dscalar('x')"
   ]
  },
  {
   "cell_type": "code",
   "execution_count": 13,
   "metadata": {
    "collapsed": true
   },
   "outputs": [],
   "source": [
    "y = T.dscalar('y')"
   ]
  },
  {
   "cell_type": "code",
   "execution_count": 14,
   "metadata": {
    "collapsed": true
   },
   "outputs": [],
   "source": [
    "z = x + y"
   ]
  },
  {
   "cell_type": "code",
   "execution_count": 15,
   "metadata": {
    "collapsed": true
   },
   "outputs": [],
   "source": [
    " f = function([x, y], z)"
   ]
  },
  {
   "cell_type": "code",
   "execution_count": 16,
   "metadata": {
    "collapsed": false
   },
   "outputs": [
    {
     "data": {
      "text/plain": [
       "array(5.0)"
      ]
     },
     "execution_count": 16,
     "metadata": {},
     "output_type": "execute_result"
    }
   ],
   "source": [
    " f(2, 3)"
   ]
  },
  {
   "cell_type": "code",
   "execution_count": 17,
   "metadata": {
    "collapsed": false
   },
   "outputs": [
    {
     "data": {
      "text/plain": [
       "array(28.4)"
      ]
     },
     "execution_count": 17,
     "metadata": {},
     "output_type": "execute_result"
    }
   ],
   "source": [
    " f(16.3, 12.1)"
   ]
  },
  {
   "cell_type": "markdown",
   "metadata": {},
   "source": [
    "#### Let’s break this down into several steps."
   ]
  },
  {
   "cell_type": "markdown",
   "metadata": {},
   "source": [
    "If you are following along and typing into an interpreter, you may have noticed that there was a slight delay in executing the function instruction. Behind the scene, f was being compiled into C code."
   ]
  },
  {
   "cell_type": "markdown",
   "metadata": {},
   "source": [
    "### Step 1"
   ]
  },
  {
   "cell_type": "code",
   "execution_count": 19,
   "metadata": {
    "collapsed": true
   },
   "outputs": [],
   "source": [
    "x = T.dscalar('x')\n",
    "y = T.dscalar('y')       "
   ]
  },
  {
   "cell_type": "code",
   "execution_count": 20,
   "metadata": {
    "collapsed": false
   },
   "outputs": [
    {
     "data": {
      "text/plain": [
       "theano.tensor.var.TensorVariable"
      ]
     },
     "execution_count": 20,
     "metadata": {},
     "output_type": "execute_result"
    }
   ],
   "source": [
    "type(x)"
   ]
  },
  {
   "cell_type": "code",
   "execution_count": 21,
   "metadata": {
    "collapsed": false
   },
   "outputs": [
    {
     "data": {
      "text/plain": [
       "TensorType(float64, scalar)"
      ]
     },
     "execution_count": 21,
     "metadata": {},
     "output_type": "execute_result"
    }
   ],
   "source": [
    " x.type"
   ]
  },
  {
   "cell_type": "code",
   "execution_count": 22,
   "metadata": {
    "collapsed": false
   },
   "outputs": [
    {
     "data": {
      "text/plain": [
       "TensorType(float64, scalar)"
      ]
     },
     "execution_count": 22,
     "metadata": {},
     "output_type": "execute_result"
    }
   ],
   "source": [
    "T.dscalar"
   ]
  },
  {
   "cell_type": "code",
   "execution_count": 23,
   "metadata": {
    "collapsed": false
   },
   "outputs": [
    {
     "data": {
      "text/plain": [
       "True"
      ]
     },
     "execution_count": 23,
     "metadata": {},
     "output_type": "execute_result"
    }
   ],
   "source": [
    " x.type is T.dscalar"
   ]
  },
  {
   "cell_type": "markdown",
   "metadata": {},
   "source": [
    "### Step 2"
   ]
  },
  {
   "cell_type": "code",
   "execution_count": 24,
   "metadata": {
    "collapsed": true
   },
   "outputs": [],
   "source": [
    "z = x + y"
   ]
  },
  {
   "cell_type": "markdown",
   "metadata": {},
   "source": [
    "z is yet another Variable which represents the addition of x and y. You can use the pp function to pretty-print out the computation associated to z."
   ]
  },
  {
   "cell_type": "code",
   "execution_count": 25,
   "metadata": {
    "collapsed": false
   },
   "outputs": [
    {
     "name": "stdout",
     "output_type": "stream",
     "text": [
      "(x + y)\n"
     ]
    }
   ],
   "source": [
    "from theano import pp\n",
    "print pp(z)"
   ]
  },
  {
   "cell_type": "markdown",
   "metadata": {},
   "source": [
    "### Step 3"
   ]
  },
  {
   "cell_type": "code",
   "execution_count": 26,
   "metadata": {
    "collapsed": true
   },
   "outputs": [],
   "source": [
    "f = function([x, y], z)"
   ]
  },
  {
   "cell_type": "markdown",
   "metadata": {},
   "source": [
    "* The first argument to function is a list of Variables that will be provided as inputs to the function. \n",
    "* The second argument is a single Variable or a list of Variables. \n",
    "* For either case, the second argument is what we want to see as output when we apply the function. f may then be used like a normal Python function."
   ]
  },
  {
   "cell_type": "markdown",
   "metadata": {},
   "source": [
    "## Adding two Matrices"
   ]
  },
  {
   "cell_type": "code",
   "execution_count": 27,
   "metadata": {
    "collapsed": true
   },
   "outputs": [],
   "source": [
    "x = T.dmatrix('x')"
   ]
  },
  {
   "cell_type": "code",
   "execution_count": 28,
   "metadata": {
    "collapsed": true
   },
   "outputs": [],
   "source": [
    "y = T.dmatrix('y')"
   ]
  },
  {
   "cell_type": "code",
   "execution_count": 29,
   "metadata": {
    "collapsed": true
   },
   "outputs": [],
   "source": [
    "z = x + y"
   ]
  },
  {
   "cell_type": "code",
   "execution_count": 30,
   "metadata": {
    "collapsed": true
   },
   "outputs": [],
   "source": [
    "f = function([x, y], z)"
   ]
  },
  {
   "cell_type": "code",
   "execution_count": 31,
   "metadata": {
    "collapsed": false
   },
   "outputs": [
    {
     "data": {
      "text/plain": [
       "array([[ 11.,  22.],\n",
       "       [ 33.,  44.]])"
      ]
     },
     "execution_count": 31,
     "metadata": {},
     "output_type": "execute_result"
    }
   ],
   "source": [
    " f([[1, 2], [3, 4]], [[10, 20], [30, 40]])"
   ]
  },
  {
   "cell_type": "code",
   "execution_count": 32,
   "metadata": {
    "collapsed": false
   },
   "outputs": [
    {
     "data": {
      "text/plain": [
       "array([[ 11.,  22.],\n",
       "       [ 33.,  44.]])"
      ]
     },
     "execution_count": 32,
     "metadata": {},
     "output_type": "execute_result"
    }
   ],
   "source": [
    "import numpy\n",
    "a = numpy.array([[1, 2], [3, 4]])\n",
    "b = numpy.array([[10, 20], [30, 40]])\n",
    "f(a, b)"
   ]
  },
  {
   "cell_type": "markdown",
   "metadata": {},
   "source": [
    "It is possible to add scalars to matrices, vectors to matrices, scalars to vectors, etc. = broadcasting"
   ]
  },
  {
   "cell_type": "markdown",
   "metadata": {},
   "source": [
    "The following types are available:"
   ]
  },
  {
   "cell_type": "markdown",
   "metadata": {},
   "source": [
    "* <b>byte</b>: bscalar, bvector, bmatrix, brow, bcol, btensor3, btensor4\n",
    "* <b>16-bit integers</b>:wscalar, wvector, wmatrix, wrow, wcol, wtensor3, wtensor4\n",
    "* <b>32-bit integers</b>: iscalar, ivector, imatrix, irow, icol, itensor3, itensor4\n",
    "* <b>64-bit integers</b>: lscalar, lvector, lmatrix, lrow, lcol, ltensor3, ltensor4\n",
    "* <b>float</b>: fscalar, fvector, fmatrix, frow, fcol, ftensor3, ftensor4\n",
    "* <b>double</b>: dscalar, dvector, dmatrix, drow, dcol, dtensor3, dtensor4\n",
    "* <b>complex</b>: cscalar, cvector, cmatrix, crow, ccol, ctensor3, ctensor4"
   ]
  },
  {
   "cell_type": "code",
   "execution_count": 33,
   "metadata": {
    "collapsed": false
   },
   "outputs": [
    {
     "name": "stdout",
     "output_type": "stream",
     "text": [
      "[    0.     2.  1026.]\n"
     ]
    }
   ],
   "source": [
    "import theano\n",
    "a = theano.tensor.vector() # declare variable\n",
    "out = a + a ** 10               # build symbolic expression\n",
    "f = theano.function([a], out)   # compile function\n",
    "print f([0, 1, 2])  # prints `array([0, 2, 1026])`"
   ]
  },
  {
   "cell_type": "markdown",
   "metadata": {},
   "source": [
    "# More EXamples"
   ]
  },
  {
   "cell_type": "markdown",
   "metadata": {},
   "source": [
    "* Logistic Function\n",
    "* Computing More than one Thing at the Same Time\n",
    "* Setting a Default Value for an Argument\n",
    "* Using Shared Variables\n",
    "* Using Random Numbers\n",
    "    - Brief Example\n",
    "    - Seeding Streams\n",
    "    - Sharing Streams Between Functions\n",
    "    - Copying Random State Between Theano Graphs\n",
    "    - Other Random Distributions\n",
    "    - Other Implementations\n",
    "* Real Example: Logistic Regression"
   ]
  },
  {
   "cell_type": "markdown",
   "metadata": {},
   "source": [
    "## Logistic Function"
   ]
  },
  {
   "cell_type": "markdown",
   "metadata": {},
   "source": [
    "<img src=\"http://deeplearning.net/software/theano/_images/math/943718fb001e2e9576e781d97946d74e44de5251.png\" />"
   ]
  },
  {
   "cell_type": "markdown",
   "metadata": {},
   "source": [
    "<img src=\"http://deeplearning.net/software/theano/_images/logistic.png\" />"
   ]
  },
  {
   "cell_type": "markdown",
   "metadata": {},
   "source": [
    "You want to compute the function elementwise on matrices of doubles, which means that you want to apply this function to each individual element of the matrix."
   ]
  },
  {
   "cell_type": "code",
   "execution_count": 35,
   "metadata": {
    "collapsed": true
   },
   "outputs": [],
   "source": [
    "x = T.dmatrix('x')\n",
    "s = 1 / (1 + T.exp(-x))\n",
    "logistic = function([x], s)"
   ]
  },
  {
   "cell_type": "code",
   "execution_count": 36,
   "metadata": {
    "collapsed": false
   },
   "outputs": [
    {
     "data": {
      "text/plain": [
       "array([[ 0.5       ,  0.73105858],\n",
       "       [ 0.26894142,  0.11920292]])"
      ]
     },
     "execution_count": 36,
     "metadata": {},
     "output_type": "execute_result"
    }
   ],
   "source": [
    "logistic([[0, 1], [-1, -2]])"
   ]
  },
  {
   "cell_type": "markdown",
   "metadata": {},
   "source": [
    "<img src=\"http://deeplearning.net/software/theano/_images/math/d27229dfcd1ce305c126bbbd8a2e0fa867ccc503.png\" />"
   ]
  },
  {
   "cell_type": "code",
   "execution_count": 38,
   "metadata": {
    "collapsed": false
   },
   "outputs": [],
   "source": [
    "s2 = (1 + T.tanh(x / 2)) / 2\n",
    "logistic2 = function([x], s2)"
   ]
  },
  {
   "cell_type": "code",
   "execution_count": 39,
   "metadata": {
    "collapsed": false
   },
   "outputs": [
    {
     "data": {
      "text/plain": [
       "array([[ 0.5       ,  0.73105858],\n",
       "       [ 0.26894142,  0.11920292]])"
      ]
     },
     "execution_count": 39,
     "metadata": {},
     "output_type": "execute_result"
    }
   ],
   "source": [
    "logistic2([[0, 1], [-1, -2]])"
   ]
  },
  {
   "cell_type": "markdown",
   "metadata": {},
   "source": [
    "### Computing More than one Thing at the Same Time"
   ]
  },
  {
   "cell_type": "markdown",
   "metadata": {},
   "source": [
    "Theano supports functions with multiple outputs. For example, we can compute the elementwise difference, absolute difference, and squared difference between two matrices a and b at the same time:"
   ]
  },
  {
   "cell_type": "code",
   "execution_count": 41,
   "metadata": {
    "collapsed": true
   },
   "outputs": [],
   "source": [
    "a, b = T.dmatrices('a', 'b')\n",
    "diff = a - b\n",
    "abs_diff = abs(diff)\n",
    "diff_squared = diff**2\n",
    "f = function([a, b], [diff, abs_diff, diff_squared])"
   ]
  },
  {
   "cell_type": "code",
   "execution_count": 42,
   "metadata": {
    "collapsed": false
   },
   "outputs": [
    {
     "data": {
      "text/plain": [
       "[array([[ 1.,  0.],\n",
       "        [-1., -2.]]), array([[ 1.,  0.],\n",
       "        [ 1.,  2.]]), array([[ 1.,  0.],\n",
       "        [ 1.,  4.]])]"
      ]
     },
     "execution_count": 42,
     "metadata": {},
     "output_type": "execute_result"
    }
   ],
   "source": [
    "f([[1, 1], [1, 1]], [[0, 1], [2, 3]])"
   ]
  },
  {
   "cell_type": "markdown",
   "metadata": {},
   "source": [
    "### Setting a Default Value for an Argument"
   ]
  },
  {
   "cell_type": "markdown",
   "metadata": {},
   "source": [
    "Let’s say you want to define a function that adds two numbers, except that if you only provide one number, the other input is assumed to be one. You can do it like this:"
   ]
  },
  {
   "cell_type": "code",
   "execution_count": 43,
   "metadata": {
    "collapsed": true
   },
   "outputs": [],
   "source": [
    "from theano import Param\n",
    "x, y = T.dscalars('x', 'y')\n",
    "z = x + y\n",
    "f = function([x, Param(y, default=1)], z)"
   ]
  },
  {
   "cell_type": "code",
   "execution_count": 44,
   "metadata": {
    "collapsed": false
   },
   "outputs": [
    {
     "data": {
      "text/plain": [
       "array(34.0)"
      ]
     },
     "execution_count": 44,
     "metadata": {},
     "output_type": "execute_result"
    }
   ],
   "source": [
    "f(33)"
   ]
  },
  {
   "cell_type": "code",
   "execution_count": 45,
   "metadata": {
    "collapsed": false
   },
   "outputs": [
    {
     "data": {
      "text/plain": [
       "array(35.0)"
      ]
     },
     "execution_count": 45,
     "metadata": {},
     "output_type": "execute_result"
    }
   ],
   "source": [
    "f(33, 2)"
   ]
  },
  {
   "cell_type": "markdown",
   "metadata": {},
   "source": [
    "Inputs with default values must follow inputs without default values (like Python’s functions). There can be multiple inputs with default values. These parameters can be set positionally or by name, as in standard Python:"
   ]
  },
  {
   "cell_type": "code",
   "execution_count": 46,
   "metadata": {
    "collapsed": true
   },
   "outputs": [],
   "source": [
    "x, y, w = T.dscalars('x', 'y', 'w')\n",
    "z = (x + y) * w\n",
    "f = function([x, Param(y, default=1), Param(w, default=2, name='w_by_name')], z)"
   ]
  },
  {
   "cell_type": "code",
   "execution_count": 47,
   "metadata": {
    "collapsed": false
   },
   "outputs": [
    {
     "data": {
      "text/plain": [
       "array(68.0)"
      ]
     },
     "execution_count": 47,
     "metadata": {},
     "output_type": "execute_result"
    }
   ],
   "source": [
    "f(33)"
   ]
  },
  {
   "cell_type": "code",
   "execution_count": 48,
   "metadata": {
    "collapsed": false
   },
   "outputs": [
    {
     "data": {
      "text/plain": [
       "array(70.0)"
      ]
     },
     "execution_count": 48,
     "metadata": {},
     "output_type": "execute_result"
    }
   ],
   "source": [
    "f(33, 2)"
   ]
  },
  {
   "cell_type": "code",
   "execution_count": 49,
   "metadata": {
    "collapsed": false
   },
   "outputs": [
    {
     "data": {
      "text/plain": [
       "array(33.0)"
      ]
     },
     "execution_count": 49,
     "metadata": {},
     "output_type": "execute_result"
    }
   ],
   "source": [
    "f(33, 0, 1)"
   ]
  },
  {
   "cell_type": "code",
   "execution_count": 50,
   "metadata": {
    "collapsed": false
   },
   "outputs": [
    {
     "data": {
      "text/plain": [
       "array(34.0)"
      ]
     },
     "execution_count": 50,
     "metadata": {},
     "output_type": "execute_result"
    }
   ],
   "source": [
    "f(33, w_by_name=1)"
   ]
  },
  {
   "cell_type": "code",
   "execution_count": 51,
   "metadata": {
    "collapsed": false
   },
   "outputs": [
    {
     "data": {
      "text/plain": [
       "array(33.0)"
      ]
     },
     "execution_count": 51,
     "metadata": {},
     "output_type": "execute_result"
    }
   ],
   "source": [
    "f(33, w_by_name=1, y=0)"
   ]
  },
  {
   "cell_type": "markdown",
   "metadata": {},
   "source": [
    "### Using Shared Variables"
   ]
  },
  {
   "cell_type": "markdown",
   "metadata": {},
   "source": [
    "It is also possible to make a function with an internal state. For example, let’s say we want to make an accumulator: at the beginning, the state is initialized to zero. Then, on each function call, the state is incremented by the function’s argument."
   ]
  },
  {
   "cell_type": "code",
   "execution_count": 52,
   "metadata": {
    "collapsed": true
   },
   "outputs": [],
   "source": [
    "from theano import shared\n",
    "state = shared(0)\n",
    "inc = T.iscalar('inc')\n",
    "accumulator = function([inc], state, updates=[(state, state+inc)])"
   ]
  },
  {
   "cell_type": "code",
   "execution_count": 53,
   "metadata": {
    "collapsed": false
   },
   "outputs": [
    {
     "data": {
      "text/plain": [
       "array(0)"
      ]
     },
     "execution_count": 53,
     "metadata": {},
     "output_type": "execute_result"
    }
   ],
   "source": [
    "state.get_value()"
   ]
  },
  {
   "cell_type": "code",
   "execution_count": 54,
   "metadata": {
    "collapsed": false
   },
   "outputs": [
    {
     "data": {
      "text/plain": [
       "array(0)"
      ]
     },
     "execution_count": 54,
     "metadata": {},
     "output_type": "execute_result"
    }
   ],
   "source": [
    "accumulator(1)"
   ]
  },
  {
   "cell_type": "code",
   "execution_count": 55,
   "metadata": {
    "collapsed": false
   },
   "outputs": [
    {
     "data": {
      "text/plain": [
       "array(1)"
      ]
     },
     "execution_count": 55,
     "metadata": {},
     "output_type": "execute_result"
    }
   ],
   "source": [
    "state.get_value()"
   ]
  },
  {
   "cell_type": "code",
   "execution_count": 56,
   "metadata": {
    "collapsed": false
   },
   "outputs": [
    {
     "data": {
      "text/plain": [
       "array(1)"
      ]
     },
     "execution_count": 56,
     "metadata": {},
     "output_type": "execute_result"
    }
   ],
   "source": [
    "accumulator(300)"
   ]
  },
  {
   "cell_type": "code",
   "execution_count": 57,
   "metadata": {
    "collapsed": false
   },
   "outputs": [
    {
     "data": {
      "text/plain": [
       "array(301)"
      ]
     },
     "execution_count": 57,
     "metadata": {},
     "output_type": "execute_result"
    }
   ],
   "source": [
    "state.get_value()"
   ]
  },
  {
   "cell_type": "markdown",
   "metadata": {},
   "source": [
    "### Using Random Numbers"
   ]
  },
  {
   "cell_type": "markdown",
   "metadata": {},
   "source": [
    "#### Brief Example"
   ]
  },
  {
   "cell_type": "markdown",
   "metadata": {},
   "source": [
    "#### Seeding Streams"
   ]
  },
  {
   "cell_type": "markdown",
   "metadata": {},
   "source": [
    "#### Sharing Streams Between Functions"
   ]
  },
  {
   "cell_type": "markdown",
   "metadata": {},
   "source": [
    "#### Copying Random State Between Theano Graphs"
   ]
  },
  {
   "cell_type": "markdown",
   "metadata": {},
   "source": [
    "#### Other Random Distributions"
   ]
  },
  {
   "cell_type": "markdown",
   "metadata": {},
   "source": [
    "#### Other Implementations"
   ]
  },
  {
   "cell_type": "markdown",
   "metadata": {},
   "source": [
    "### Real Example: Logistic Regression"
   ]
  },
  {
   "cell_type": "code",
   "execution_count": 58,
   "metadata": {
    "collapsed": false
   },
   "outputs": [
    {
     "name": "stdout",
     "output_type": "stream",
     "text": [
      "Initial model:\n",
      "[ -1.42111412e-01   6.94340172e-01   1.28997755e-02   1.50638369e+00\n",
      "   2.82010656e+00  -1.69207620e+00   4.28408181e-01  -5.57769398e-01\n",
      "   1.07503183e+00  -2.03069110e+00  -3.88104714e-01  -1.06068334e+00\n",
      "  -2.04697300e+00  -6.10142058e-01  -8.73433858e-01  -1.73390466e+00\n",
      "  -8.34776497e-01   5.08669506e-01   3.32153194e-01  -1.07191715e+00\n",
      "   1.27794970e+00   3.80428164e-01  -2.48096498e+00   1.42942676e+00\n",
      "  -7.07996228e-01   1.58385998e+00   8.85295462e-01   6.17573224e-01\n",
      "  -2.73795434e-01   5.96132223e-01  -7.48656907e-01   7.23562800e-02\n",
      "  -3.56461864e-01   2.58109768e-02  -1.27895692e-01  -7.00580793e-02\n",
      "   1.16765724e+00  -1.21837648e+00   4.79024817e-01  -1.87097567e+00\n",
      "   1.75591356e+00   7.13428910e-01  -1.27778281e+00   4.43080622e-01\n",
      "   4.66769970e-01  -9.25411578e-01   5.37686827e-01  -7.49149481e-01\n",
      "   2.17391478e+00  -1.52930349e-01  -3.88442543e-01   4.43644289e-01\n",
      "   1.11423181e-01  -6.20008671e-01   7.18401482e-01   1.08682712e-01\n",
      "   3.56102291e-01   1.10250016e+00   3.06944982e-01   1.25542133e+00\n",
      "  -4.63235402e-01  -8.30362057e-02   3.88164726e-01  -1.59959355e-01\n",
      "  -1.50084276e+00  -1.45220324e-01  -6.00676842e-02   1.07766285e+00\n",
      "   5.75043669e-02  -1.32096213e+00  -2.58433946e-01   5.52675629e-01\n",
      "  -9.96640408e-01   9.86256113e-01   7.26867238e-01   1.11210231e+00\n",
      "   6.04309265e-01   1.17022808e+00  -2.18557747e+00   4.06198317e-02\n",
      "   5.96431854e-02  -6.67252387e-01   1.27299523e+00   5.82702664e-01\n",
      "   3.57132313e-02  -1.36681358e+00  -1.45538895e-01   9.26480816e-01\n",
      "   2.02090240e+00  -3.71329943e-01  -8.37691650e-01   4.64393475e-01\n",
      "  -1.88067623e-01   3.42356665e-01  -1.18144007e+00   7.38160562e-01\n",
      "   1.32914490e+00  -9.85352144e-01  -3.29763109e-01  -5.84634623e-01\n",
      "   5.41877475e-02   5.55669741e-01   8.60092514e-01  -7.91063127e-01\n",
      "  -9.81442966e-01  -2.89099454e-02   1.86656848e+00   1.67725788e+00\n",
      "  -7.90783956e-01   3.69172400e-01  -1.10328656e+00  -9.91976616e-01\n",
      "   2.32489592e-01  -1.38675763e+00  -1.97971692e-01   2.66370121e+00\n",
      "  -4.16191383e-01  -3.20893373e-01   9.35455200e-01   2.52061328e+00\n",
      "   3.15811015e-02  -2.13381080e-01  -1.22637785e+00   1.37663154e+00\n",
      "   7.78676351e-01  -1.66928029e+00  -4.98340040e-02  -8.68228025e-01\n",
      "  -1.30862465e+00  -1.48674897e+00   5.17614383e-01  -2.17407397e-01\n",
      "  -1.21289906e+00   5.01277268e-01   4.64557284e-01  -6.02252046e-01\n",
      "  -5.34836397e-01   9.91794138e-02  -3.40044691e-01   1.00829092e+00\n",
      "   2.02184134e-01   5.01601984e-01  -1.34897444e+00   1.44202195e+00\n",
      "  -3.08753465e-01   1.00150539e+00  -5.68315598e-01  -2.35426222e-02\n",
      "   2.21013581e+00  -5.61301439e-01   3.13585754e-01   1.00794052e+00\n",
      "  -1.88635942e-01   5.95634354e-02  -8.05589506e-01  -2.06122087e+00\n",
      "  -1.90064594e+00  -4.28681021e-01   1.07215972e+00  -1.97164208e+00\n",
      "  -1.90508215e+00   3.63366412e-01   1.87345131e+00   1.19954735e+00\n",
      "  -1.05230652e+00  -1.22209549e+00  -2.54839247e-01  -1.98978530e+00\n",
      "   1.18437293e+00  -1.82692885e+00  -4.42163412e-01   4.10260364e-01\n",
      "   4.58264982e-02   1.86292628e-01  -1.02591233e+00  -4.71258739e-01\n",
      "  -1.94071857e+00  -2.93581494e-01  -1.91537187e+00   1.65881077e-01\n",
      "   4.36371124e-01  -9.36724592e-01   1.64724130e+00  -3.06343542e+00\n",
      "   4.64801307e-01  -1.68069262e+00   6.40153227e-01  -1.07417681e+00\n",
      "  -4.93835110e-01   1.63412845e+00   1.41585168e+00  -1.84919688e+00\n",
      "   1.25493286e+00  -9.12619170e-01  -3.72844098e-01   1.75834997e+00\n",
      "   4.57000896e-01   4.97432919e-03   8.20737133e-01   1.46259355e-01\n",
      "   4.39468319e-02  -7.90013921e-01  -2.86945573e-01  -2.09686127e+00\n",
      "  -4.35036878e-01   6.53053718e-01   5.34006690e-01  -2.07724782e-01\n",
      "   3.28400052e-01   2.89094372e-01  -1.91162092e+00  -7.41069321e-01\n",
      "  -5.14015508e-02  -2.17224003e-01   2.03365280e+00   9.30021355e-01\n",
      "  -4.01044846e-01   7.90926256e-01  -1.12565397e+00   3.77031438e-02\n",
      "  -1.54245670e+00  -5.21499094e-01   2.20287984e-01  -6.29688522e-01\n",
      "  -3.70783592e-02  -6.92633565e-01  -3.15412734e-01  -4.64056802e-01\n",
      "  -1.29413953e-01   1.08399846e-01  -1.01911195e+00  -5.72097777e-01\n",
      "  -1.81371959e-01  -1.18948193e+00  -1.06043610e+00  -8.48438717e-02\n",
      "  -5.62703081e-01   1.42926001e+00  -6.74570110e-01  -1.92658823e+00\n",
      "  -1.99885319e-01  -2.97926362e-01   1.98347438e-01  -8.61492648e-01\n",
      "   1.79198835e-01  -6.46664819e-01  -1.51055179e-01   6.21336369e-02\n",
      "   3.47734067e-01  -4.11938249e-01  -8.35170041e-01   4.86783124e-01\n",
      "   2.78554203e-03   1.86215005e-01  -5.56085884e-01  -1.13195002e+00\n",
      "   5.25045311e-01  -3.40537378e-01  -7.80699888e-01  -1.04062300e-01\n",
      "  -1.02397098e+00   6.50171112e-01  -2.18510852e+00  -4.56844360e-01\n",
      "   5.23074913e-01  -1.42457422e+00  -5.87658891e-02  -2.22233439e+00\n",
      "   5.31702639e-01   9.73337301e-01  -1.06092823e+00  -1.39830850e+00\n",
      "   4.60435474e-01   4.36663254e-01  -1.00698685e+00   5.98212829e-01\n",
      "  -6.78694629e-01   3.98318835e-01   1.06400841e+00   1.42877983e-01\n",
      "  -7.77069164e-02   1.90493204e-01   5.64691638e-01   1.32988006e-01\n",
      "  -5.81140698e-02   7.84770945e-01   1.64821335e+00   6.72916670e-01\n",
      "  -1.30597814e+00  -9.37564347e-01   6.13272096e-01   3.57836898e-01\n",
      "   1.36470076e+00  -1.58029056e+00  -3.38205797e-01  -1.81279276e+00\n",
      "  -1.19550713e+00   3.94735622e-01  -4.99795976e-01  -3.90104340e-02\n",
      "  -3.12136316e-01  -1.22202391e+00  -1.59425129e-01  -1.05292636e+00\n",
      "   2.22057655e-01  -9.41196752e-02   2.63756152e+00  -5.32480323e-02\n",
      "  -9.15845654e-01  -1.67186556e-01  -3.24945231e-01   7.10333607e-01\n",
      "  -9.99120010e-01  -2.18996760e+00  -2.69564703e-01  -6.18851221e-01\n",
      "  -6.30299343e-01   2.91635593e-01   1.14948523e+00   8.20872691e-01\n",
      "   1.65757519e+00   1.54715292e+00   1.69759326e-01  -5.47603117e-01\n",
      "   1.77269770e+00  -6.20472565e-01  -2.17157488e-01  -6.82038116e-01\n",
      "   7.72456953e-01  -1.61407876e+00   8.79340890e-01   7.80252658e-01\n",
      "   8.87068573e-01  -7.66630138e-01   3.54437328e-01   5.47688641e-01\n",
      "   1.87194549e+00  -4.49054863e-01  -1.07135874e+00  -1.31615164e+00\n",
      "   2.78999558e-01  -4.77729204e-01   6.57452308e-01  -7.33695241e-01\n",
      "   1.34237859e+00   1.22355323e+00  -1.42652951e+00   1.20971022e+00\n",
      "   1.30191834e+00  -4.21971205e-02   8.08462565e-01  -1.18296443e+00\n",
      "   8.74869772e-01  -7.86263294e-01   1.22132598e+00   1.07423260e+00\n",
      "  -6.37057005e-01  -6.36043341e-01  -1.53802215e+00  -7.26212425e-01\n",
      "  -1.42950074e+00   1.66230222e+00  -4.23981242e-01  -1.11679024e+00\n",
      "   8.06635761e-01   8.24138052e-01   1.16541772e+00  -7.61141814e-01\n",
      "   9.95656440e-01   1.60391843e+00   2.74256385e-01   1.03128378e+00\n",
      "   3.69580559e-01  -1.25380534e+00  -1.35901073e+00   3.00654341e-01\n",
      "  -2.71708179e-01  -5.77220799e-01  -3.27051173e-01  -7.82653233e-01\n",
      "  -3.60343033e-01   5.84018224e-01   1.87017670e+00   6.70596587e-01\n",
      "   1.58928356e+00   4.48446885e-01   1.35186736e+00   4.38473528e-01\n",
      "   1.71803687e-01  -1.20061935e+00   2.15635175e-01  -2.39240044e+00\n",
      "  -5.37054149e-01  -2.70692566e-01   4.89335058e-01   7.08558925e-01\n",
      "   5.78718713e-01   1.65911905e-01   5.28896105e-01  -1.23949390e-01\n",
      "  -8.49565649e-01  -9.51873886e-01   1.01571624e+00  -2.01148469e+00\n",
      "  -1.81503788e-01  -2.19562356e+00  -2.93572017e-01  -1.75099090e-01\n",
      "   3.39588052e-01   1.38527376e-01  -2.38758450e+00  -8.67627588e-01\n",
      "   4.51328782e-01  -6.07141931e-02   4.91483153e-01  -1.42240104e+00\n",
      "  -8.56181010e-01  -1.25811640e-01  -8.95663236e-02   4.05546431e-01\n",
      "  -1.13863438e+00  -3.00772492e-01   9.97280973e-01   7.87951911e-02\n",
      "  -3.89513851e-01   3.58550707e-01  -8.11307907e-01   1.56407456e+00\n",
      "   8.46753505e-01   6.71842619e-02   2.08388232e+00   1.81739524e+00\n",
      "   7.45328774e-01  -1.91769764e-01  -7.66706688e-01   1.22614246e+00\n",
      "   3.05734812e-01  -1.19738210e-01  -1.43036443e+00  -1.74983716e+00\n",
      "   1.63023067e+00   7.51376189e-01  -1.69646263e+00  -5.72739353e-01\n",
      "  -3.28483244e-01   2.49321650e-01   1.39478313e+00   1.12815796e+00\n",
      "   4.72018096e-01  -2.12369405e-01   1.59422879e+00  -3.17167897e-01\n",
      "   1.19469628e-01   2.31809649e-01  -9.40885615e-01  -6.88623620e-01\n",
      "  -3.44209738e+00  -1.29272701e+00   8.67474906e-01   7.84234701e-01\n",
      "   2.14716720e-01  -6.34201581e-01  -8.58497536e-01  -2.18773028e-01\n",
      "   1.26965607e+00  -8.10887155e-01   1.27134864e-01   8.51781484e-01\n",
      "  -5.79232954e-01  -1.68106761e+00   2.24219900e-01  -1.78587168e+00\n",
      "  -1.33360903e+00   6.87083107e-01   9.95327748e-01   1.79642030e-01\n",
      "   1.67566456e+00  -4.66617859e-01  -6.74432917e-01  -5.43798638e-01\n",
      "  -7.03203706e-01   1.51321772e+00   2.17060078e+00   4.86303350e-01\n",
      "   8.73403864e-01   5.77647515e-01   2.70296666e-01  -7.42642062e-01\n",
      "  -6.87787632e-01   1.22885011e+00  -4.15530029e-01  -7.37947054e-01\n",
      "   1.78163424e+00  -1.66553441e+00  -1.91804551e-01  -6.46557826e-01\n",
      "  -9.72693569e-01   1.51144741e+00  -5.50064984e-01   1.11794307e+00\n",
      "   1.80756866e+00  -2.39412055e-01  -7.60942117e-02  -4.96872353e-01\n",
      "  -1.91470187e+00  -8.72950830e-01   1.03282596e+00  -4.39474903e-01\n",
      "   2.97372742e+00   2.10337498e+00  -1.62180560e+00  -2.90629077e-01\n",
      "  -2.35626179e-02   1.56578888e+00   5.76372250e-01   1.11388457e+00\n",
      "   7.79171876e-02   4.13981985e-01  -6.30760496e-01  -1.37100507e+00\n",
      "   2.16640579e+00   2.46089681e-01  -1.49345154e-01   5.16382943e-01\n",
      "  -9.34929131e-01   5.68146219e-01   1.32847672e-01  -5.01695665e-01\n",
      "  -2.34809056e+00  -4.62798913e-01   6.47517079e-01  -1.41703980e+00\n",
      "   3.40540191e-02   5.15316783e-01  -3.03532557e-02  -4.36194328e-01\n",
      "  -1.19494361e+00   1.14077318e+00   4.56892277e-01   9.58760404e-01\n",
      "  -2.74602091e+00  -3.46548609e-03   4.21938096e-01   1.95910476e-01\n",
      "   5.64025794e-01   6.56189458e-01   1.45157529e+00   5.52734639e-01\n",
      "   5.09389508e-01   1.72946076e+00   1.39016630e+00   5.93869579e-01\n",
      "  -8.58335361e-01   7.51152103e-01   1.19247562e+00  -5.42734701e-01\n",
      "  -4.13508669e-01  -1.69550317e+00  -1.62439484e+00   6.86958288e-01\n",
      "   1.12207848e+00  -1.44223141e+00  -1.30347676e+00  -1.57971823e-04\n",
      "  -3.59214615e-01   4.47080161e-01   1.10143617e+00  -3.59944743e-01\n",
      "   1.28685932e+00   3.83484337e-01   1.17608283e+00   1.51121137e+00\n",
      "  -1.22612744e+00   5.21189001e-01   8.08509364e-01  -1.27223784e-01\n",
      "   2.99407813e-01  -6.39421091e-01  -5.74238062e-01   1.46276228e+00\n",
      "  -7.21040855e-01   7.38070682e-01  -5.00350290e-02   4.47270627e-01\n",
      "   1.26749098e+00  -3.18121482e-01  -3.13841365e-01  -8.33927490e-02\n",
      "  -2.00991348e-01   1.23598436e+00  -2.08817232e+00   1.00181765e+00\n",
      "   7.63113242e-01   1.04563876e+00  -5.46658985e-01   2.91619981e-01\n",
      "  -3.29511516e-01  -1.38814108e+00   2.32180139e+00  -8.39279697e-01\n",
      "  -9.56698270e-01  -9.45277993e-01  -2.02268615e+00   1.64243844e+00\n",
      "  -4.93005837e-02   8.91827387e-01  -6.44332218e-01  -1.44694271e+00\n",
      "  -8.17654360e-01   1.26661843e+00   1.41599320e+00   1.00572269e-01\n",
      "  -9.78310242e-01  -2.55835600e-01   4.63224548e-01   7.10777397e-01\n",
      "  -1.18643583e-01   2.24677409e-01  -8.76701268e-01  -8.40483518e-01\n",
      "  -1.80694555e-02  -1.33825492e-01   1.09041061e+00  -9.21010545e-01\n",
      "  -1.70874152e-01  -2.17674224e-02   3.93226831e-01  -1.82614657e+00\n",
      "  -1.14226696e+00   2.71396906e-02   6.02942650e-01   3.95073255e-01\n",
      "  -8.65407125e-01   1.99392710e+00  -5.71267344e-01   1.07293667e+00\n",
      "  -1.18964408e+00  -9.54015126e-01   2.56153058e+00   1.10876543e+00\n",
      "  -1.92310926e+00  -1.17458004e+00  -3.07881135e-01   1.02337096e+00\n",
      "   7.42655287e-02  -1.99795871e+00   1.07701898e-01  -2.89729450e-01\n",
      "  -2.14964266e-01   4.89798765e-01   1.00680630e+00   1.05194423e-01\n",
      "  -8.22499522e-02  -3.36526001e-01   1.53725345e+00   1.06370729e+00\n",
      "  -3.63496115e-01   1.96269482e+00  -4.09302293e-01   1.22294098e+00\n",
      "   1.52072191e+00  -7.92317610e-01   8.25610536e-01  -1.11940973e+00\n",
      "  -1.73919451e-02  -2.63178743e-01   3.69654206e-01  -1.32951644e+00\n",
      "  -1.08834696e+00   7.25749797e-01  -1.25420810e+00   1.60039487e+00\n",
      "   1.46067108e+00  -2.15150111e-01   2.42200697e-01  -5.53963255e-01\n",
      "  -4.26486362e-01   1.05412127e+00   3.01631302e-01  -1.29276006e-01\n",
      "   1.39234643e+00   4.32146138e-01  -3.63973154e-02  -7.93056667e-01\n",
      "  -1.01041960e+00   1.30447820e-01   4.92948853e-01   1.58799708e-02\n",
      "   4.65680292e-01  -1.41802552e+00  -1.47098398e+00   1.17356492e+00\n",
      "  -1.35903155e-01   1.79553004e-01  -7.70500371e-01   6.16319743e-01\n",
      "   1.15157042e+00   7.36038270e-01  -1.13886938e+00  -7.66456523e-01\n",
      "  -6.86446721e-01  -8.13931172e-02   4.10091804e-01  -2.06552335e-01\n",
      "   5.51856017e-01   2.62169242e+00  -1.07016906e+00  -2.08018968e-02\n",
      "   2.80802472e+00  -8.74317474e-01   1.01680921e+00   1.93946580e-01\n",
      "   4.06433028e-01   3.71543328e-01  -1.22785055e+00   1.10052681e+00\n",
      "  -6.95637563e-01   9.20365741e-01  -6.34809506e-01   6.73513771e-02\n",
      "   2.14892044e+00  -3.18689815e-01   1.06647421e+00   1.88319103e+00\n",
      "   9.95038480e-01  -9.14419998e-02  -1.36476250e+00  -7.51438251e-01\n",
      "  -4.83511280e-01  -1.83864949e+00  -8.86599623e-01  -1.29525336e+00\n",
      "   5.54707925e-01   9.05371573e-01  -1.74646704e+00  -5.74662001e-01\n",
      "   7.84013260e-01  -6.70573931e-01   3.77300161e-01   2.54287444e+00\n",
      "   2.11109082e+00  -1.47869423e+00   1.35819425e+00  -1.98941353e+00\n",
      "  -7.95092189e-01   6.45176336e-02  -4.30301294e-01   1.24534954e-01\n",
      "  -7.59156582e-01  -1.01563547e+00   3.24998422e-01   8.60092687e-01\n",
      "   9.47454660e-01   1.72008958e+00   2.18763696e-01  -2.03281021e-01\n",
      "   1.07147020e+00  -1.27543017e+00  -9.15265561e-01   1.56591374e+00\n",
      "   1.75412520e+00   1.97787782e+00   5.43380267e-01  -1.53322367e+00\n",
      "   5.18332242e-01  -2.92041562e-01   5.87615950e-01  -1.28403039e+00\n",
      "   8.51932167e-01  -6.11356990e-01  -4.97254878e-01  -3.20670554e-01\n",
      "  -5.90712200e-01  -7.57970691e-01   1.18742688e+00  -1.19350188e+00\n",
      "   8.58996392e-01  -3.89569084e-01   7.65258335e-01   1.26370863e+00\n",
      "  -7.01046871e-01   9.18844459e-01   3.04317562e-01   6.61700169e-01] 0.0\n",
      "Final model:\n",
      "[-0.11909066 -0.24916942  0.044632    0.06161033  0.01181503 -0.04499762\n",
      " -0.03913869  0.14849784 -0.11342406 -0.09895938  0.12729524  0.02431859\n",
      "  0.03369316  0.05494254 -0.02196935  0.0409425  -0.07398387 -0.04410105\n",
      "  0.11149478  0.12816197 -0.19645857 -0.10361333  0.09664708  0.1096244\n",
      " -0.10366999 -0.0377818  -0.0513745  -0.0433628   0.0297911  -0.19589042\n",
      "  0.02334621 -0.00576518  0.21305147  0.04722817  0.04563495  0.15803943\n",
      " -0.01529499 -0.09999616 -0.018315   -0.04738055  0.15855867  0.11513001\n",
      " -0.01344589  0.02195173  0.1124019  -0.04424557 -0.05308959  0.07637067\n",
      "  0.06189378  0.06460241  0.16149614  0.0072136   0.04181929 -0.07292009\n",
      " -0.12498939  0.08245091 -0.03537059  0.06576418  0.03015769  0.00555805\n",
      "  0.19217214 -0.01176935 -0.0480557  -0.03700155  0.03072166  0.05289608\n",
      "  0.03483148  0.06925856  0.05770654 -0.08093406  0.1071951   0.02118874\n",
      " -0.04508783  0.17908862 -0.00948371  0.01963241 -0.04759203  0.10332592\n",
      "  0.04631994  0.10613169  0.034311   -0.02379343 -0.00597665  0.04546839\n",
      "  0.02377556  0.01141619  0.12522096 -0.08934008  0.06600374 -0.11257166\n",
      " -0.07132907 -0.10809848 -0.01678446 -0.13012762 -0.02162474 -0.04677798\n",
      "  0.0024188   0.10036321 -0.0900783  -0.10572168  0.26010309  0.16762702\n",
      " -0.14783034  0.02339413 -0.21909968 -0.03031425  0.13511648  0.04775195\n",
      " -0.13691163  0.01280554  0.03883334  0.0265181  -0.05849145 -0.04951498\n",
      "  0.04011937  0.00214809 -0.09384092 -0.07070526  0.03867146  0.09872601\n",
      " -0.14416144 -0.02354924 -0.01764355 -0.15296838  0.1161047  -0.04930725\n",
      "  0.11031499 -0.06839065 -0.04348627  0.00293399 -0.03864765 -0.06997421\n",
      " -0.00743464  0.12568083  0.06806701 -0.29374007  0.05435241 -0.19289465\n",
      "  0.10166565 -0.04214692  0.02330394  0.03092142 -0.1700922  -0.03943444\n",
      " -0.1293266  -0.10561131  0.10847385 -0.028405    0.02487734 -0.01533839\n",
      "  0.07875336  0.0051392  -0.03875052 -0.09040309  0.09796084  0.02906166\n",
      " -0.08060058  0.01278199 -0.06572175 -0.18719579 -0.0276792   0.12196726\n",
      "  0.07201881 -0.01152504  0.00194877  0.09804561  0.18239365 -0.06527037\n",
      " -0.04290071  0.00765266 -0.00138251  0.04165999 -0.01937416  0.12177928\n",
      "  0.02237374  0.15678568 -0.01686019  0.1081954  -0.08228254 -0.01866081\n",
      "  0.10248683 -0.07296921  0.2339402  -0.07894656  0.19798296 -0.0698364\n",
      " -0.10020869 -0.06862284 -0.07972689 -0.1010486  -0.0976574  -0.00640821\n",
      "  0.08629707  0.07042306  0.15357793  0.04708816  0.1075194  -0.08539663\n",
      "  0.11611815  0.01858197 -0.10345859 -0.09059169  0.08886631  0.01894052\n",
      " -0.00041637  0.01305249 -0.00592815  0.04317657 -0.02026776  0.05925654\n",
      "  0.0821398  -0.12100208  0.04111446 -0.03261938  0.06058256 -0.0882583\n",
      "  0.06374199  0.02816534  0.02604649 -0.06732193  0.17103901  0.09214653\n",
      " -0.09385055  0.05362712 -0.03443386 -0.19786637  0.00507592  0.0757338\n",
      "  0.10785206 -0.16263744 -0.10205672  0.07531203 -0.08466254  0.17408132\n",
      "  0.02273881 -0.01001169  0.01648859 -0.07387731  0.17465642 -0.07825997\n",
      " -0.06178356 -0.06597598  0.28228812  0.00329217  0.12696502 -0.11414491\n",
      "  0.00829931 -0.15931956 -0.05014255  0.02929546 -0.04804815 -0.09176324\n",
      "  0.12508647  0.14451446  0.12480386  0.01902808  0.00329953 -0.11505685\n",
      " -0.24910211 -0.01147076  0.05615221 -0.07886342  0.11229477  0.13232046\n",
      " -0.05351566  0.01289139  0.0477191   0.01188889 -0.03798026 -0.02870331\n",
      "  0.02875613 -0.09261537 -0.01638507  0.00885403 -0.12108575  0.06909321\n",
      "  0.09027061 -0.04371555 -0.07288446 -0.02977268 -0.06239258 -0.19826417\n",
      "  0.10629994 -0.06739194 -0.06993799 -0.02211682  0.07633014  0.04201046\n",
      "  0.1041003  -0.06844916  0.07156149 -0.03548631  0.08859987  0.16392115\n",
      "  0.06443488 -0.01987003  0.0778884   0.14488922 -0.01850982 -0.07621411\n",
      "  0.02908876  0.13620155 -0.03561495  0.07438705 -0.00316941  0.14807828\n",
      "  0.05349726 -0.17697377 -0.10333576  0.02949262 -0.06437851  0.10421013\n",
      " -0.07975118 -0.17052364  0.01066966  0.07026938 -0.11532708 -0.00540884\n",
      " -0.13724967  0.07067376  0.23881967 -0.09331965  0.00036374 -0.03463747\n",
      "  0.02884705  0.07965076 -0.12444689 -0.02587138 -0.12220422 -0.08485113\n",
      " -0.02677239 -0.10271599  0.05694642 -0.06776365 -0.02386651  0.05421478\n",
      "  0.20465799 -0.05908689  0.16903568 -0.17657001 -0.0616496  -0.01815958\n",
      "  0.01607692 -0.18313112 -0.00796818  0.04171427 -0.14706523  0.00573065\n",
      "  0.04910806 -0.04252164  0.13795884  0.06497751  0.04151818 -0.07058815\n",
      "  0.04594637  0.01695329  0.17826712 -0.07936075  0.05695309  0.15253053\n",
      "  0.0150136   0.13019255  0.08349189  0.08253642 -0.06737607 -0.05011881\n",
      " -0.14894558 -0.01660648  0.15952343  0.2336259   0.07659352 -0.01368027\n",
      "  0.11649639 -0.09329214 -0.062132    0.14730149 -0.01292674  0.04444056\n",
      "  0.0021099   0.08965001 -0.00257207  0.08893406 -0.03024985  0.1085783\n",
      "  0.04434059  0.04984775  0.07213872 -0.10114442  0.10344514  0.08695554\n",
      "  0.09965833 -0.01750415 -0.16003389  0.12905936 -0.01297642 -0.01391615\n",
      " -0.26689238  0.00553577 -0.04271009  0.04799939 -0.07127775  0.04969446\n",
      "  0.06080879 -0.01481817 -0.07699636  0.02769361 -0.07908368 -0.02149209\n",
      "  0.0142256  -0.00217827 -0.01790719 -0.07163809 -0.12017137 -0.11129728\n",
      "  0.10125922 -0.02014843  0.05154035  0.05842365  0.0595809   0.12199774\n",
      " -0.12156618  0.00423809  0.04484482  0.01516759 -0.134787   -0.21050046\n",
      "  0.08031454 -0.09361648 -0.09836079  0.04337636  0.11825647  0.07008646\n",
      " -0.09247664  0.02807992  0.06851922 -0.11355819 -0.06342692 -0.0887359\n",
      " -0.14229405 -0.16551552  0.15571479 -0.02703022 -0.20285301  0.03011899\n",
      " -0.05200298  0.08628489 -0.08308815  0.04916307 -0.07343229  0.05646649\n",
      " -0.05806824  0.08178568  0.09120413  0.02168018  0.0112851   0.16100833\n",
      " -0.06810316  0.01536815  0.04676857 -0.17690098  0.20115283 -0.16408487\n",
      "  0.00821971 -0.08050712  0.03813538 -0.06602212 -0.02814941 -0.04217383\n",
      " -0.1457816   0.00043805 -0.13067908  0.06642551 -0.08101387 -0.0190822\n",
      " -0.05087807  0.08197856 -0.03840152  0.19090565 -0.1397384  -0.00711804\n",
      "  0.03192345 -0.13540312  0.08258085 -0.03684137  0.03532804  0.02283002\n",
      "  0.08568942 -0.04122375 -0.16482883 -0.0529578   0.11332366  0.08261815\n",
      "  0.06185647 -0.00543105 -0.19673287  0.01255265 -0.05065061  0.03926201\n",
      " -0.05104998  0.09974375 -0.16934934  0.05355805  0.14950338  0.10621645\n",
      "  0.08650086 -0.03125669  0.0113484   0.06628936  0.10207212 -0.02930574\n",
      "  0.02280026  0.00984687  0.10455608  0.03546934 -0.06253273 -0.07385505\n",
      "  0.0050516   0.01448888 -0.08811355  0.01471548 -0.01499956  0.13178117\n",
      " -0.11096844  0.13364791 -0.11494177 -0.05591801  0.06696408 -0.00501337\n",
      " -0.00790984 -0.12668275 -0.23713807  0.05766605 -0.10272853 -0.05503214\n",
      " -0.07919566 -0.15266843 -0.17750765 -0.12694362  0.0470535   0.00732145\n",
      " -0.00557228  0.00307807 -0.05994837  0.01223351 -0.00279053 -0.00627133\n",
      "  0.06660858 -0.05333292 -0.02552399  0.12752604  0.0515269   0.1710203\n",
      " -0.00915742  0.07109883  0.00480861 -0.02702562  0.01382518 -0.08559288\n",
      " -0.06244018  0.00507944  0.05207993 -0.1098783  -0.03367208  0.11874435\n",
      " -0.07294754  0.03356181 -0.06755997 -0.0210117  -0.32784032  0.10808932\n",
      "  0.03389234 -0.04097946  0.13610737 -0.11049386 -0.0545627  -0.13210208\n",
      " -0.07420827 -0.20220456 -0.0544663  -0.12747189  0.07575715  0.03248515\n",
      " -0.05846278  0.02365944  0.07235088 -0.02126415  0.04910885  0.11768485\n",
      " -0.02827972  0.11657772 -0.13149606 -0.06479495 -0.02653307  0.04904877\n",
      "  0.1629999   0.20396579 -0.07327936  0.08559292 -0.01270425  0.0468864\n",
      "  0.2072078  -0.10476717  0.16521402  0.0490462   0.00896077  0.02605007\n",
      "  0.03774504  0.08802017  0.02134811 -0.02991407 -0.02030902  0.06111211\n",
      " -0.01900844  0.14567083 -0.09340386  0.00663372 -0.09756745 -0.14753741\n",
      "  0.08721507 -0.01052332  0.07354557  0.13714577 -0.09034386  0.00182759\n",
      " -0.06454162 -0.03677201  0.08277842  0.1597205  -0.05586446  0.05367485\n",
      "  0.02139462 -0.04040177 -0.06365112  0.15972387 -0.04228999 -0.09030191\n",
      "  0.04260507 -0.13914626  0.0521408  -0.0150375  -0.06204729 -0.02779828\n",
      "  0.01023007  0.11349872 -0.1123013  -0.05620401 -0.06734903  0.00957881\n",
      "  0.00287388  0.10196966 -0.06867854 -0.15928212  0.07050877  0.0009239\n",
      " -0.01233358  0.20195812  0.10748314 -0.01240672 -0.03076315 -0.01589071\n",
      " -0.07313188  0.03685364 -0.00280398  0.02956293  0.08688453  0.13022113\n",
      "  0.03256378  0.21752983  0.02209623  0.0693464   0.0621875  -0.17056606\n",
      "  0.09473383 -0.05115427 -0.10348244  0.177534   -0.02153659  0.05519129\n",
      "  0.00771182 -0.06390494 -0.03070522  0.1050452  -0.18012682 -0.07526646\n",
      "  0.08074211  0.19058009 -0.02985644  0.11672053 -0.11756433  0.01577903\n",
      "  0.01980831 -0.03601787 -0.03797832 -0.06458865 -0.1934503   0.05760064\n",
      "  0.22260435 -0.12763755 -0.06675962  0.15464081  0.05065626  0.06812131\n",
      " -0.00545092  0.06176909  0.02628874  0.09679681 -0.03854414  0.08171508\n",
      "  0.08069423 -0.18376798  0.03361026 -0.16035329  0.03426871  0.02285731\n",
      " -0.04374643  0.34883291 -0.02893776 -0.10230008 -0.00888555 -0.05560837\n",
      "  0.02630338  0.01268763 -0.06989155 -0.03423812  0.05797134  0.0228158\n",
      "  0.04874257  0.07299922 -0.16233862  0.05277576 -0.16372043  0.12137142\n",
      " -0.00999247  0.04186196 -0.03178022 -0.21586007  0.12767553  0.13989119\n",
      "  0.08404275 -0.03006355  0.03505826 -0.17389132  0.02844487  0.01935321\n",
      " -0.02791743  0.07786775 -0.12845371  0.04976341 -0.041622    0.08902739\n",
      "  0.11006169  0.1246385   0.04344712 -0.04031137  0.10453276  0.04026939\n",
      " -0.04544075  0.19854864 -0.04798522  0.05426691 -0.09660984  0.13432601\n",
      " -0.12713247 -0.0732266   0.04894886 -0.02291025  0.17258014 -0.09171863\n",
      " -0.03823562 -0.01112756 -0.02898346  0.00240135 -0.03473147 -0.04492971\n",
      "  0.10094155 -0.02533013 -0.06183221  0.07255861  0.03202287 -0.08500114\n",
      " -0.00704809  0.0265765  -0.1247729   0.01874474] 0.303513333498\n",
      "target values for D: [1 1 1 1 1 0 0 0 1 1 1 0 1 1 1 1 0 1 1 0 0 1 1 0 0 1 0 1 0 0 0 0 0 0 1 0 1\n",
      " 0 1 0 1 0 1 1 1 0 0 1 0 0 1 1 0 0 1 1 1 1 1 0 0 1 1 0 1 1 1 0 0 1 1 0 1 0\n",
      " 0 1 0 0 1 0 1 0 1 0 1 0 0 0 0 0 0 0 1 1 0 1 0 0 1 1 1 1 1 1 0 0 0 1 0 0 1\n",
      " 0 1 1 0 0 1 0 1 0 0 1 1 1 1 0 1 0 0 0 0 1 0 0 1 0 0 1 0 0 1 0 1 0 1 0 0 0\n",
      " 1 0 1 0 1 0 0 0 1 0 0 1 0 1 0 0 0 0 1 1 1 0 0 1 1 1 0 1 1 0 0 1 1 0 1 0 1\n",
      " 0 1 0 1 0 1 1 0 1 0 0 1 1 0 0 1 0 0 1 0 1 0 0 1 1 1 0 1 0 0 1 1 1 0 0 1 1\n",
      " 1 1 0 1 1 0 0 0 0 0 0 1 1 1 0 1 0 1 1 1 1 1 0 1 1 0 0 1 0 0 1 0 0 1 1 1 1\n",
      " 1 1 1 1 0 0 0 0 0 1 1 0 1 0 1 0 0 0 1 1 0 1 0 1 1 1 1 1 0 0 1 0 1 0 0 0 0\n",
      " 0 1 1 1 1 1 1 1 1 1 0 1 0 1 0 1 1 1 1 0 0 0 1 1 1 1 1 0 0 1 1 0 0 1 1 1 0\n",
      " 1 1 0 0 1 0 1 1 0 0 0 0 0 1 1 1 0 0 1 0 1 1 1 0 1 0 1 1 1 0 1 1 1 1 0 0 1\n",
      " 0 0 0 0 0 1 1 0 0 1 1 1 1 0 1 1 0 1 1 0 0 0 1 0 0 0 1 0 0 0]\n",
      "prediction on D: [1 1 1 1 1 0 0 0 1 1 1 0 1 1 1 1 0 1 1 0 0 1 1 0 0 1 0 1 0 0 0 0 0 0 1 0 1\n",
      " 0 1 0 1 0 1 1 1 0 0 1 0 0 1 1 0 0 1 1 1 1 1 0 0 1 1 0 1 1 1 0 0 1 1 0 1 0\n",
      " 0 1 0 0 1 0 1 0 1 0 1 0 0 0 0 0 0 0 1 1 0 1 0 0 1 1 1 1 1 1 0 0 0 1 0 0 1\n",
      " 0 1 1 0 0 1 0 1 0 0 1 1 1 1 0 1 0 0 0 0 1 0 0 1 0 0 1 0 0 1 0 1 0 1 0 0 0\n",
      " 1 0 1 0 1 0 0 0 1 0 0 1 0 1 0 0 0 0 1 1 1 0 0 1 1 1 0 1 1 0 0 1 1 0 1 0 1\n",
      " 0 1 0 1 0 1 1 0 1 0 0 1 1 0 0 1 0 0 1 0 1 0 0 1 1 1 0 1 0 0 1 1 1 0 0 1 1\n",
      " 1 1 0 1 1 0 0 0 0 0 0 1 1 1 0 1 0 1 1 1 1 1 0 1 1 0 0 1 0 0 1 0 0 1 1 1 1\n",
      " 1 1 1 1 0 0 0 0 0 1 1 0 1 0 1 0 0 0 1 1 0 1 0 1 1 1 1 1 0 0 1 0 1 0 0 0 0\n",
      " 0 1 1 1 1 1 1 1 1 1 0 1 0 1 0 1 1 1 1 0 0 0 1 1 1 1 1 0 0 1 1 0 0 1 1 1 0\n",
      " 1 1 0 0 1 0 1 1 0 0 0 0 0 1 1 1 0 0 1 0 1 1 1 0 1 0 1 1 1 0 1 1 1 1 0 0 1\n",
      " 0 0 0 0 0 1 1 0 0 1 1 1 1 0 1 1 0 1 1 0 0 0 1 0 0 0 1 0 0 0]\n"
     ]
    }
   ],
   "source": [
    "import numpy\n",
    "import theano\n",
    "import theano.tensor as T\n",
    "rng = numpy.random\n",
    "\n",
    "N = 400\n",
    "feats = 784\n",
    "D = (rng.randn(N, feats), rng.randint(size=N, low=0, high=2))\n",
    "training_steps = 10000\n",
    "\n",
    "# Declare Theano symbolic variables\n",
    "x = T.matrix(\"x\")\n",
    "y = T.vector(\"y\")\n",
    "w = theano.shared(rng.randn(feats), name=\"w\")\n",
    "b = theano.shared(0., name=\"b\")\n",
    "print \"Initial model:\"\n",
    "print w.get_value(), b.get_value()\n",
    "\n",
    "# Construct Theano expression graph\n",
    "p_1 = 1 / (1 + T.exp(-T.dot(x, w) - b))   # Probability that target = 1\n",
    "prediction = p_1 > 0.5                    # The prediction thresholded\n",
    "xent = -y * T.log(p_1) - (1-y) * T.log(1-p_1) # Cross-entropy loss function\n",
    "cost = xent.mean() + 0.01 * (w ** 2).sum()# The cost to minimize\n",
    "gw, gb = T.grad(cost, [w, b])             # Compute the gradient of the cost\n",
    "                                          # (we shall return to this in a\n",
    "                                          # following section of this tutorial)\n",
    "\n",
    "# Compile\n",
    "train = theano.function(\n",
    "          inputs=[x,y],\n",
    "          outputs=[prediction, xent],\n",
    "          updates=((w, w - 0.1 * gw), (b, b - 0.1 * gb)))\n",
    "predict = theano.function(inputs=[x], outputs=prediction)\n",
    "\n",
    "# Train\n",
    "for i in range(training_steps):\n",
    "    pred, err = train(D[0], D[1])\n",
    "\n",
    "print \"Final model:\"\n",
    "print w.get_value(), b.get_value()\n",
    "print \"target values for D:\", D[1]\n",
    "print \"prediction on D:\", predict(D[0])"
   ]
  },
  {
   "cell_type": "markdown",
   "metadata": {},
   "source": [
    "# 참고자료"
   ]
  },
  {
   "cell_type": "markdown",
   "metadata": {},
   "source": [
    "* [1] Theano 0.7 Tutorial - http://deeplearning.net/software/theano/tutorial/index.html"
   ]
  }
 ],
 "metadata": {
  "kernelspec": {
   "display_name": "Python 2",
   "language": "python",
   "name": "python2"
  },
  "language_info": {
   "codemirror_mode": {
    "name": "ipython",
    "version": 2
   },
   "file_extension": ".py",
   "mimetype": "text/x-python",
   "name": "python",
   "nbconvert_exporter": "python",
   "pygments_lexer": "ipython2",
   "version": "2.7.3"
  }
 },
 "nbformat": 4,
 "nbformat_minor": 0
}
